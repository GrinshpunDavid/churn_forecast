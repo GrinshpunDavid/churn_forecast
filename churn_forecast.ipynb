{
 "cells": [
  {
   "cell_type": "markdown",
   "id": "c12ef708",
   "metadata": {},
   "source": [
    "# Project description\n",
    "\n",
    "The telecom operator Interconnect would like to be able to forecast their churn of clients. If it's discovered that a user is planning to leave, they will be offered promotional codes and special plan options. Interconnect's marketing team has collected some of their clientele's personal data, including information about their plans and contracts.\n",
    "\n",
    "### Interconnect's services\n",
    "\n",
    "Interconnect mainly provides two types of services:\n",
    "\n",
    "1. Landline communication. The telephone can be connected to several lines simultaneously.\n",
    "2. Internet. The network can be set up via a telephone line (DSL, *digital subscriber line*) or through a fiber optic cable.\n",
    "\n",
    "Some other services the company provides include:\n",
    "\n",
    "- Internet security: antivirus software (*DeviceProtection*) and a malicious website blocker (*OnlineSecurity*)\n",
    "- A dedicated technical support line (*TechSupport*)\n",
    "- Cloud file storage and data backup (*OnlineBackup*)\n",
    "- TV streaming (*StreamingTV*) and a movie directory (*StreamingMovies*)\n",
    "\n",
    "The clients can choose either a monthly payment or sign a 1- or 2-year contract. They can use various payment methods and receive an electronic invoice after a transaction.\n",
    "\n",
    "### Data Description\n",
    "\n",
    "The data consists of files obtained from different sources:\n",
    "\n",
    "- `contract.csv` — contract information\n",
    "- `personal.csv` — the client's personal data\n",
    "- `internet.csv` — information about Internet services\n",
    "- `phone.csv` — information about telephone services\n",
    "\n",
    "In each file, the column `customerID` contains a unique code assigned to each client.\n",
    "\n",
    "The contract information is valid as of February 1, 2020."
   ]
  },
  {
   "cell_type": "code",
   "execution_count": 1,
   "id": "72b0926a",
   "metadata": {},
   "outputs": [
    {
     "name": "stderr",
     "output_type": "stream",
     "text": [
      "<frozen importlib._bootstrap>:219: RuntimeWarning: scipy._lib.messagestream.MessageStream size changed, may indicate binary incompatibility. Expected 56 from C header, got 64 from PyObject\n"
     ]
    }
   ],
   "source": [
    "# Data calculation and analysis libraries\n",
    "import pandas as pd\n",
    "import numpy as np\n",
    "import math as m\n",
    "import sidetable as stb\n",
    "import datetime as dt\n",
    "\n",
    "# Visualization libraries\n",
    "import matplotlib.pyplot as plt\n",
    "import seaborn as sns\n",
    "\n",
    "# Split & shuffle function\n",
    "from sklearn.model_selection import train_test_split\n",
    "from sklearn.utils import shuffle\n",
    "\n",
    "# Data engineering libraries\n",
    "from sklearn.preprocessing import MinMaxScaler\n",
    "from sklearn.preprocessing import OrdinalEncoder\n",
    "from sklearn.impute import KNNImputer\n",
    "\n",
    "# Evaluation metrics \n",
    "from sklearn.metrics import roc_auc_score, f1_score\n",
    "\n",
    "# A hyperparameter optimization framework to automate hyperparameter search\n",
    "import optuna\n",
    "\n",
    "# Ignore warnings\n",
    "import warnings\n",
    "warnings.filterwarnings('ignore')\n",
    "\n",
    "# Time and constant\n",
    "import time\n",
    "last_date = dt.datetime(2020,2,1)\n",
    "randomness = 42\n",
    "\n",
    "# notbook \n",
    "pd.options.display.max_columns = None\n",
    "%matplotlib inline\n",
    "%config InlineBackend.figure_format = 'retina'\n",
    "plt.style.use('seaborn')"
   ]
  },
  {
   "cell_type": "code",
   "execution_count": 2,
   "id": "df6e8575",
   "metadata": {},
   "outputs": [
    {
     "name": "stdout",
     "output_type": "stream",
     "text": [
      "          cid start_date   end_date   contract_type  paperless_billing  \\\n",
      "0  7590-VHVEG 2020-01-01        NaT  Month-to-month                  1   \n",
      "1  5575-GNVDE 2017-04-01        NaT        One year                  0   \n",
      "2  3668-QPYBK 2019-10-01 2019-12-01  Month-to-month                  1   \n",
      "3  7795-CFOCW 2016-05-01        NaT        One year                  0   \n",
      "4  9237-HQITU 2019-09-01 2019-11-01  Month-to-month                  1   \n",
      "\n",
      "              payment_method  monthly_charges  total_charges  active_user  \\\n",
      "0           Electronic check            29.85          29.85            1   \n",
      "1               Mailed check            56.95        1889.50            1   \n",
      "2               Mailed check            53.85         108.15            0   \n",
      "3  Bank transfer (automatic)            42.30        1840.75            1   \n",
      "4           Electronic check            70.70         151.65            0   \n",
      "\n",
      "   contract_duration  \n",
      "0               31.0  \n",
      "1             1036.0  \n",
      "2               61.0  \n",
      "3             1371.0  \n",
      "4               61.0  \n",
      "<class 'pandas.core.frame.DataFrame'>\n",
      "RangeIndex: 7043 entries, 0 to 7042\n",
      "Data columns (total 10 columns):\n",
      " #   Column             Non-Null Count  Dtype         \n",
      "---  ------             --------------  -----         \n",
      " 0   cid                7043 non-null   object        \n",
      " 1   start_date         7043 non-null   datetime64[ns]\n",
      " 2   end_date           1869 non-null   datetime64[ns]\n",
      " 3   contract_type      7043 non-null   object        \n",
      " 4   paperless_billing  7043 non-null   uint8         \n",
      " 5   payment_method     7043 non-null   object        \n",
      " 6   monthly_charges    7043 non-null   float64       \n",
      " 7   total_charges      7043 non-null   float64       \n",
      " 8   active_user        7043 non-null   uint8         \n",
      " 9   contract_duration  7043 non-null   float64       \n",
      "dtypes: datetime64[ns](2), float64(3), object(3), uint8(2)\n",
      "memory usage: 454.1+ KB\n"
     ]
    }
   ],
   "source": [
    "contract_data = pd.read_csv('contract.csv',\n",
    "                           parse_dates=['BeginDate'])\n",
    "\n",
    "contract_data.columns = ['cid','start_date','end_date','contract_type','paperless_billing',\n",
    "                         'payment_method','monthly_charges','total_charges']\n",
    "\n",
    "contract_data['active_user'] = contract_data.end_date.map(lambda i: 1 if i == 'No' else 0).astype('uint8')\n",
    "contract_data['end_date'] = contract_data.end_date.map(lambda i: float('NaN') if i == 'No' else i).astype('datetime64[D]')\n",
    "contract_data['paperless_billing'] = contract_data.paperless_billing.eq('Yes').mul(1).astype('uint8')\n",
    "contract_data['total_charges'] = contract_data.total_charges.map(lambda i: 0 if i == ' ' else i).astype('float')\n",
    "contract_data['contract_duration'] = (contract_data.end_date.fillna(last_date) - contract_data.start_date)/ np.timedelta64(1,'D')\n",
    "\n",
    "print(contract_data.head())\n",
    "contract_data.info()"
   ]
  },
  {
   "cell_type": "code",
   "execution_count": 3,
   "id": "3a3ad122",
   "metadata": {},
   "outputs": [
    {
     "name": "stdout",
     "output_type": "stream",
     "text": [
      "          cid  gender  senior_citizen  partner  dependents\n",
      "0  7590-VHVEG       0               0        1           0\n",
      "1  5575-GNVDE       1               0        0           0\n",
      "2  3668-QPYBK       1               0        0           0\n",
      "3  7795-CFOCW       1               0        0           0\n",
      "4  9237-HQITU       0               0        0           0\n",
      "<class 'pandas.core.frame.DataFrame'>\n",
      "RangeIndex: 7043 entries, 0 to 7042\n",
      "Data columns (total 5 columns):\n",
      " #   Column          Non-Null Count  Dtype \n",
      "---  ------          --------------  ----- \n",
      " 0   cid             7043 non-null   object\n",
      " 1   gender          7043 non-null   int64 \n",
      " 2   senior_citizen  7043 non-null   int64 \n",
      " 3   partner         7043 non-null   int64 \n",
      " 4   dependents      7043 non-null   int64 \n",
      "dtypes: int64(4), object(1)\n",
      "memory usage: 275.2+ KB\n"
     ]
    }
   ],
   "source": [
    "personal_data = pd.read_csv('personal.csv')\n",
    "\n",
    "personal_data.columns = ['cid','gender','senior_citizen','partner','dependents']\n",
    "personal_data['gender'] = personal_data.gender.map(lambda i: 1 if i == 'Male' else 0)\n",
    "personal_data['partner'] = personal_data.partner.map(lambda i: 1 if i == 'Yes' else 0) \n",
    "personal_data['dependents'] = personal_data.dependents.map(lambda i: 1 if i == 'Yes' else 0) \n",
    "\n",
    "print(personal_data.head())\n",
    "personal_data.info()"
   ]
  },
  {
   "cell_type": "code",
   "execution_count": 4,
   "id": "61fab117",
   "metadata": {},
   "outputs": [
    {
     "name": "stdout",
     "output_type": "stream",
     "text": [
      "          cid internet_service  online_security  online_backup  \\\n",
      "0  7590-VHVEG              DSL                0              1   \n",
      "1  5575-GNVDE              DSL                1              0   \n",
      "2  3668-QPYBK              DSL                1              1   \n",
      "3  7795-CFOCW              DSL                1              0   \n",
      "4  9237-HQITU      Fiber optic                0              0   \n",
      "\n",
      "   device_protection  tech_support  streaming_tv  streaming_movies  \n",
      "0                  0             0             0                 0  \n",
      "1                  1             0             0                 0  \n",
      "2                  0             0             0                 0  \n",
      "3                  1             1             0                 0  \n",
      "4                  0             0             0                 0  \n",
      "<class 'pandas.core.frame.DataFrame'>\n",
      "RangeIndex: 5517 entries, 0 to 5516\n",
      "Data columns (total 8 columns):\n",
      " #   Column             Non-Null Count  Dtype \n",
      "---  ------             --------------  ----- \n",
      " 0   cid                5517 non-null   object\n",
      " 1   internet_service   5517 non-null   object\n",
      " 2   online_security    5517 non-null   int64 \n",
      " 3   online_backup      5517 non-null   int64 \n",
      " 4   device_protection  5517 non-null   int64 \n",
      " 5   tech_support       5517 non-null   int64 \n",
      " 6   streaming_tv       5517 non-null   int64 \n",
      " 7   streaming_movies   5517 non-null   int64 \n",
      "dtypes: int64(6), object(2)\n",
      "memory usage: 344.9+ KB\n"
     ]
    }
   ],
   "source": [
    "internet_data = pd.read_csv('internet.csv')\n",
    "\n",
    "internet_data.columns = ['cid','internet_service','online_security','online_backup','device_protection', \n",
    "                         'tech_support','streaming_tv','streaming_movies']\n",
    "\n",
    "colist = ['online_security','online_backup','device_protection', 'tech_support','streaming_tv','streaming_movies']\n",
    "\n",
    "for col in colist:\n",
    "    internet_data[col] = internet_data[col].map(lambda i: 1 if i == 'Yes' else 0)\n",
    "\n",
    "print(internet_data.head())\n",
    "internet_data.info()"
   ]
  },
  {
   "cell_type": "code",
   "execution_count": 5,
   "id": "f472632a",
   "metadata": {},
   "outputs": [
    {
     "name": "stdout",
     "output_type": "stream",
     "text": [
      "          cid  multiple_lines\n",
      "0  5575-GNVDE               0\n",
      "1  3668-QPYBK               0\n",
      "2  9237-HQITU               0\n",
      "3  9305-CDSKC               1\n",
      "4  1452-KIOVK               1\n",
      "<class 'pandas.core.frame.DataFrame'>\n",
      "RangeIndex: 6361 entries, 0 to 6360\n",
      "Data columns (total 2 columns):\n",
      " #   Column          Non-Null Count  Dtype \n",
      "---  ------          --------------  ----- \n",
      " 0   cid             6361 non-null   object\n",
      " 1   multiple_lines  6361 non-null   int64 \n",
      "dtypes: int64(1), object(1)\n",
      "memory usage: 99.5+ KB\n"
     ]
    }
   ],
   "source": [
    "phone_data = pd.read_csv('phone.csv')\n",
    "\n",
    "phone_data.columns = ['cid','multiple_lines']\n",
    "phone_data['multiple_lines'] = phone_data.multiple_lines.map(lambda i: 1 if i == 'Yes' else 0) \n",
    "\n",
    "print(phone_data.head())\n",
    "phone_data.info()"
   ]
  },
  {
   "cell_type": "code",
   "execution_count": 6,
   "id": "d67e2b10",
   "metadata": {},
   "outputs": [
    {
     "name": "stdout",
     "output_type": "stream",
     "text": [
      "<class 'pandas.core.frame.DataFrame'>\n",
      "Int64Index: 7043 entries, 0 to 7042\n",
      "Data columns (total 22 columns):\n",
      " #   Column             Non-Null Count  Dtype         \n",
      "---  ------             --------------  -----         \n",
      " 0   cid                7043 non-null   object        \n",
      " 1   start_date         7043 non-null   datetime64[ns]\n",
      " 2   end_date           1869 non-null   datetime64[ns]\n",
      " 3   contract_type      7043 non-null   object        \n",
      " 4   paperless_billing  7043 non-null   uint8         \n",
      " 5   payment_method     7043 non-null   object        \n",
      " 6   monthly_charges    7043 non-null   float64       \n",
      " 7   total_charges      7043 non-null   float64       \n",
      " 8   active_user        7043 non-null   uint8         \n",
      " 9   contract_duration  7043 non-null   float64       \n",
      " 10  gender             7043 non-null   int64         \n",
      " 11  senior_citizen     7043 non-null   int64         \n",
      " 12  partner            7043 non-null   int64         \n",
      " 13  dependents         7043 non-null   int64         \n",
      " 14  internet_service   5517 non-null   object        \n",
      " 15  online_security    5517 non-null   float64       \n",
      " 16  online_backup      5517 non-null   float64       \n",
      " 17  device_protection  5517 non-null   float64       \n",
      " 18  tech_support       5517 non-null   float64       \n",
      " 19  streaming_tv       5517 non-null   float64       \n",
      " 20  streaming_movies   5517 non-null   float64       \n",
      " 21  multiple_lines     6361 non-null   float64       \n",
      "dtypes: datetime64[ns](2), float64(10), int64(4), object(4), uint8(2)\n",
      "memory usage: 1.1+ MB\n"
     ]
    }
   ],
   "source": [
    "merged_data = contract_data.copy()\n",
    "merged_data = merged_data.merge(personal_data, on='cid',how='left')\n",
    "merged_data = merged_data.merge(internet_data, on='cid',how='left')\n",
    "merged_data = merged_data.merge(phone_data, on='cid',how='left')\n",
    "\n",
    "merged_data.info()"
   ]
  },
  {
   "cell_type": "markdown",
   "id": "8acaca10",
   "metadata": {},
   "source": [
    "### Plan for solving the task:\n",
    "- Exploratory Data Analysis\n",
    "- Feature engineering (address class imbalance)\n",
    "- train/test/(validation) split\n",
    "- Hyperparameter tuning and finding the best model on the validation set\n",
    "- Testing your final model on the test set"
   ]
  },
  {
   "cell_type": "markdown",
   "id": "a2dca482",
   "metadata": {},
   "source": [
    "### EDA:"
   ]
  },
  {
   "cell_type": "code",
   "execution_count": 7,
   "id": "6e49da8a",
   "metadata": {},
   "outputs": [
    {
     "data": {
      "image/png": "[encoded data removed]",
      "text/plain": [
       "<Figure size 576x396 with 1 Axes>"
      ]
     },
     "metadata": {
      "image/png": {
       "height": 358,
       "width": 498
      }
     },
     "output_type": "display_data"
    }
   ],
   "source": [
    "sns.histplot(data=contract_data, \n",
    "             x=\"contract_duration\", \n",
    "             hue=\"active_user\", \n",
    "             kde=True).set(title='Contract Duration Histogram');"
   ]
  },
  {
   "cell_type": "code",
   "execution_count": 8,
   "id": "da1eea38",
   "metadata": {},
   "outputs": [
    {
     "name": "stdout",
     "output_type": "stream",
     "text": [
      "1    5174\n",
      "0    1869\n",
      "Name: active_user, dtype: int64 \n",
      "\n",
      "1    2859\n",
      "0     409\n",
      "Name: active_user, dtype: int64\n"
     ]
    }
   ],
   "source": [
    "print(merged_data.active_user.value_counts(),'\\n')\n",
    "print(merged_data.query('contract_duration > 1000').active_user.value_counts())"
   ]
  },
  {
   "cell_type": "code",
   "execution_count": 9,
   "id": "096fbcee",
   "metadata": {},
   "outputs": [],
   "source": [
    "def ohe_fast(data, col):\n",
    "    if data[col].isna().sum() > 0:\n",
    "        data = pd.concat([data,pd.get_dummies(data[col], prefix= col ,dummy_na=True,drop_first=True)],axis=1)\n",
    "    else:\n",
    "        data = pd.concat([data,pd.get_dummies(data[col], prefix= col ,drop_first=True)],axis=1)\n",
    "        \n",
    "    data.drop(col,axis=1, inplace=True)\n",
    "    return data"
   ]
  },
  {
   "cell_type": "code",
   "execution_count": 10,
   "id": "5d3eef7e",
   "metadata": {},
   "outputs": [],
   "source": [
    "data_ohe = merged_data.copy()\n",
    "data_ohe.drop(['cid','end_date', 'start_date'], axis=1, inplace=True)\n",
    "data_ohe['internet_service'] = data_ohe['internet_service'].fillna('No')\n",
    "data_ohe = data_ohe.fillna(0)\n",
    "\n",
    "num_col = ['monthly_charges', 'total_charges', 'contract_duration']\n",
    "ordinal_col = ['contract_type', 'payment_method', 'internet_service']\n",
    "cat_col = list(set(data_ohe.columns) - set(num_col) - set(ordinal_col))\n",
    "\n",
    "for col in cat_col:\n",
    "    data_ohe[col] = data_ohe[col].astype('uint8')\n",
    "\n",
    "for col in ordinal_col:\n",
    "    data_ohe = ohe_fast(data_ohe, col)"
   ]
  },
  {
   "cell_type": "code",
   "execution_count": 11,
   "id": "9862ae8c",
   "metadata": {},
   "outputs": [],
   "source": [
    "train, test = train_test_split(data_ohe, test_size = 0.2, random_state = randomness, shuffle = True)\n",
    "\n",
    "scaler = MinMaxScaler(copy = False)\n",
    "train[num_col] = scaler.fit_transform(train[num_col])\n",
    "test[num_col] = scaler.transform(test[num_col])"
   ]
  },
  {
   "cell_type": "code",
   "execution_count": 12,
   "id": "4e08abfc",
   "metadata": {},
   "outputs": [
    {
     "data": {
      "text/plain": [
       "((5634, 22), (5634,), (1409, 22), (1409,))"
      ]
     },
     "execution_count": 12,
     "metadata": {},
     "output_type": "execute_result"
    }
   ],
   "source": [
    "features_train = train.drop(['active_user'], axis=1)\n",
    "target_train = train['active_user']\n",
    "\n",
    "features_test = test.drop(['active_user'], axis=1)\n",
    "target_test = test['active_user']\n",
    "\n",
    "features_train.shape , target_train.shape , features_test.shape , target_test.shape"
   ]
  },
  {
   "cell_type": "code",
   "execution_count": 13,
   "id": "e599a9dd",
   "metadata": {},
   "outputs": [
    {
     "name": "stdout",
     "output_type": "stream",
     "text": [
      "<class 'pandas.core.frame.DataFrame'>\n",
      "Int64Index: 5634 entries, 2142 to 860\n",
      "Data columns (total 22 columns):\n",
      " #   Column                                  Non-Null Count  Dtype  \n",
      "---  ------                                  --------------  -----  \n",
      " 0   paperless_billing                       5634 non-null   uint8  \n",
      " 1   monthly_charges                         5634 non-null   float64\n",
      " 2   total_charges                           5634 non-null   float64\n",
      " 3   contract_duration                       5634 non-null   float64\n",
      " 4   gender                                  5634 non-null   uint8  \n",
      " 5   senior_citizen                          5634 non-null   uint8  \n",
      " 6   partner                                 5634 non-null   uint8  \n",
      " 7   dependents                              5634 non-null   uint8  \n",
      " 8   online_security                         5634 non-null   uint8  \n",
      " 9   online_backup                           5634 non-null   uint8  \n",
      " 10  device_protection                       5634 non-null   uint8  \n",
      " 11  tech_support                            5634 non-null   uint8  \n",
      " 12  streaming_tv                            5634 non-null   uint8  \n",
      " 13  streaming_movies                        5634 non-null   uint8  \n",
      " 14  multiple_lines                          5634 non-null   uint8  \n",
      " 15  contract_type_One year                  5634 non-null   uint8  \n",
      " 16  contract_type_Two year                  5634 non-null   uint8  \n",
      " 17  payment_method_Credit card (automatic)  5634 non-null   uint8  \n",
      " 18  payment_method_Electronic check         5634 non-null   uint8  \n",
      " 19  payment_method_Mailed check             5634 non-null   uint8  \n",
      " 20  internet_service_Fiber optic            5634 non-null   uint8  \n",
      " 21  internet_service_No                     5634 non-null   uint8  \n",
      "dtypes: float64(3), uint8(19)\n",
      "memory usage: 280.6 KB\n"
     ]
    }
   ],
   "source": [
    "features_train.info()"
   ]
  },
  {
   "cell_type": "markdown",
   "id": "62a84255",
   "metadata": {},
   "source": [
    "### Upsample:"
   ]
  },
  {
   "cell_type": "code",
   "execution_count": 14,
   "id": "cea34386",
   "metadata": {},
   "outputs": [],
   "source": [
    "from sklearn.model_selection import cross_val_score\n",
    "from sklearn.model_selection import RepeatedStratifiedKFold\n",
    "from imblearn.pipeline import Pipeline\n",
    "from imblearn.over_sampling import SMOTE\n",
    "from imblearn.under_sampling import RandomUnderSampler\n",
    "import sklearn.metrics as metrics"
   ]
  },
  {
   "cell_type": "code",
   "execution_count": 15,
   "id": "013ab282",
   "metadata": {},
   "outputs": [
    {
     "name": "stdout",
     "output_type": "stream",
     "text": [
      "> k=1, Mean ROC AUC: 0.704\n",
      "> k=2, Mean ROC AUC: 0.702\n",
      "> k=3, Mean ROC AUC: 0.709\n",
      "> k=4, Mean ROC AUC: 0.706\n",
      "> k=5, Mean ROC AUC: 0.710\n",
      "> k=6, Mean ROC AUC: 0.709\n",
      "> k=7, Mean ROC AUC: 0.704\n",
      "> k=8, Mean ROC AUC: 0.706\n",
      "> k=9, Mean ROC AUC: 0.708\n",
      "> k=10, Mean ROC AUC: 0.708\n",
      "CPU times: total: 1.28 s\n",
      "Wall time: 10.3 s\n"
     ]
    }
   ],
   "source": [
    "%%time\n",
    "from sklearn.tree import DecisionTreeClassifier\n",
    "# values to evaluate\n",
    "k_values = [1, 2, 3, 4, 5, 6, 7, 8 , 9, 10]\n",
    "for k in k_values:\n",
    "# define pipeline\n",
    "    model = DecisionTreeClassifier()\n",
    "    over = SMOTE(sampling_strategy=0.7, k_neighbors=k, random_state = randomness)\n",
    "    under = RandomUnderSampler( random_state = randomness)\n",
    "    steps = [('over', over), ('under', under), ('model', model)]\n",
    "    pipeline = Pipeline(steps=steps)\n",
    "    # evaluate pipeline\n",
    "    cv = RepeatedStratifiedKFold(n_splits=10, n_repeats=3, random_state=1)\n",
    "    scores = cross_val_score(pipeline, features_train, target_train, scoring='roc_auc', cv=cv, n_jobs=-1)\n",
    "    score = scores.mean()\n",
    "    print('> k=%d, Mean ROC AUC: %.3f' % (k, score))"
   ]
  },
  {
   "cell_type": "code",
   "execution_count": 23,
   "id": "5475bf3d",
   "metadata": {},
   "outputs": [],
   "source": [
    "best_k = 5"
   ]
  },
  {
   "cell_type": "code",
   "execution_count": 24,
   "id": "ca081687",
   "metadata": {},
   "outputs": [
    {
     "name": "stdout",
     "output_type": "stream",
     "text": [
      "Original:           (5634, 22)\n",
      "SMOTE:              (7034, 22)\n",
      "RandomUnderSampler: (5792, 22)\n"
     ]
    }
   ],
   "source": [
    "over = SMOTE(sampling_strategy=0.7, k_neighbors=best_k, random_state = randomness)\n",
    "under = RandomUnderSampler( random_state = randomness)\n",
    "\n",
    "print(\"Original:          \",features_train.shape)\n",
    "X_res, y_res = over.fit_resample(features_train, target_train)\n",
    "print(\"SMOTE:             \",X_res.shape)\n",
    "X_res, y_res = under.fit_resample(X_res, y_res)\n",
    "print(\"RandomUnderSampler:\",X_res.shape)"
   ]
  },
  {
   "cell_type": "code",
   "execution_count": 62,
   "id": "b1f02fab",
   "metadata": {},
   "outputs": [
    {
     "data": {
      "image/png": "[encoded data removed]",
      "text/plain": [
       "<Figure size 576x396 with 1 Axes>"
      ]
     },
     "metadata": {
      "image/png": {
       "height": 358,
       "width": 504
      }
     },
     "output_type": "display_data"
    }
   ],
   "source": [
    "plot_df = pd.concat([X_res, y_res], axis=1, join='inner')\n",
    "\n",
    "sns.histplot(data=plot_df, \n",
    "             x=\"contract_duration\", \n",
    "             hue=\"active_user\", \n",
    "             kde=True).set(title='Resampled Contract Duration Histogram');"
   ]
  },
  {
   "cell_type": "markdown",
   "id": "48a43357",
   "metadata": {},
   "source": [
    "### Model Comparison:"
   ]
  },
  {
   "cell_type": "code",
   "execution_count": 33,
   "id": "f214b329",
   "metadata": {},
   "outputs": [],
   "source": [
    "from sklearn.linear_model import LogisticRegression\n",
    "from sklearn.svm import SVC\n",
    "from sklearn.naive_bayes import GaussianNB\n",
    "from sklearn.naive_bayes import MultinomialNB\n",
    "from sklearn.linear_model import SGDClassifier\n",
    "from sklearn.neighbors import KNeighborsClassifier\n",
    "from sklearn.tree import DecisionTreeClassifier\n",
    "from sklearn.ensemble import RandomForestClassifier\n",
    "from sklearn.ensemble import GradientBoostingClassifier\n",
    "from catboost import CatBoostClassifier"
   ]
  },
  {
   "cell_type": "code",
   "execution_count": 34,
   "id": "5127230c",
   "metadata": {},
   "outputs": [],
   "source": [
    "def model_evaluation( model, features_train, target_train):\n",
    "    \n",
    "    t0= time.time()\n",
    "    \n",
    "    # define pipeline\n",
    "    over = SMOTE(sampling_strategy=0.7, k_neighbors=best_k, random_state = randomness)\n",
    "    under = RandomUnderSampler( random_state = randomness)\n",
    "    steps = [('over', over), ('under', under), ('model', model)]\n",
    "    pipeline = Pipeline(steps=steps)\n",
    "    \n",
    "    cv = RepeatedStratifiedKFold(n_splits=5, n_repeats=3, random_state=randomness)\n",
    "    scores = cross_val_score(pipeline, features_train, target_train, scoring='roc_auc', cv=cv, n_jobs=-1)\n",
    "    t1= time.time()\n",
    "\n",
    "    score= {'model': [str(model).split('(', 1)[0]],\n",
    "            'cv_mean': [scores.mean()],\n",
    "            'cv_min': [scores.min()],\n",
    "            'cv_max': [scores.max()],\n",
    "            'cv_std': [scores.std()],\n",
    "            'time': [t1 - t0],\n",
    "           }  \n",
    "\n",
    "    return pd.DataFrame(score)"
   ]
  },
  {
   "cell_type": "code",
   "execution_count": 35,
   "id": "3458ea44",
   "metadata": {},
   "outputs": [],
   "source": [
    "def test_model( model, features_train, target_train, features_test, target_test):\n",
    "    \n",
    "    t0= time.time()\n",
    "    model.fit(features_train, target_train)\n",
    "    predictions1 = model.predict_proba(features_train)[:, 1]\n",
    "    predictions2 = model.predict_proba(features_test)[:, 1]\n",
    "    \n",
    "    predict1 = model.predict(features_train)\n",
    "    predict2 = model.predict(features_test)\n",
    "    t1= time.time()\n",
    "\n",
    "    score= {'model': [str(model).split('(', 1)[0]],\n",
    "            'train_acc': [metrics.accuracy_score(target_train, predict1)],\n",
    "            'train_roc_auc': [metrics.roc_auc_score(target_train, predictions1)],\n",
    "            'test_acc': [metrics.accuracy_score(target_test, predict2)],\n",
    "            'test_roc_auc': [metrics.roc_auc_score(target_test, predictions2)],\n",
    "            'time': [t1 - t0],\n",
    "           }  \n",
    "\n",
    "    return pd.DataFrame(score)"
   ]
  },
  {
   "cell_type": "code",
   "execution_count": 36,
   "id": "b76c5363",
   "metadata": {},
   "outputs": [
    {
     "name": "stdout",
     "output_type": "stream",
     "text": [
      "CPU times: total: 844 ms\n",
      "Wall time: 32.3 s\n"
     ]
    },
    {
     "data": {
      "text/html": [
       "<div>\n",
       "<style scoped>\n",
       "    .dataframe tbody tr th:only-of-type {\n",
       "        vertical-align: middle;\n",
       "    }\n",
       "\n",
       "    .dataframe tbody tr th {\n",
       "        vertical-align: top;\n",
       "    }\n",
       "\n",
       "    .dataframe thead th {\n",
       "        text-align: right;\n",
       "    }\n",
       "</style>\n",
       "<table border=\"1\" class=\"dataframe\">\n",
       "  <thead>\n",
       "    <tr style=\"text-align: right;\">\n",
       "      <th></th>\n",
       "      <th>model</th>\n",
       "      <th>cv_mean</th>\n",
       "      <th>cv_min</th>\n",
       "      <th>cv_max</th>\n",
       "      <th>cv_std</th>\n",
       "      <th>time</th>\n",
       "    </tr>\n",
       "  </thead>\n",
       "  <tbody>\n",
       "    <tr>\n",
       "      <th>0</th>\n",
       "      <td>&lt;catboost.core.CatBoostClassifier object at 0x...</td>\n",
       "      <td>0.883539</td>\n",
       "      <td>0.854250</td>\n",
       "      <td>0.905214</td>\n",
       "      <td>0.012303</td>\n",
       "      <td>22.538948</td>\n",
       "    </tr>\n",
       "    <tr>\n",
       "      <th>0</th>\n",
       "      <td>GradientBoostingClassifier</td>\n",
       "      <td>0.870563</td>\n",
       "      <td>0.847646</td>\n",
       "      <td>0.890712</td>\n",
       "      <td>0.011861</td>\n",
       "      <td>2.154994</td>\n",
       "    </tr>\n",
       "    <tr>\n",
       "      <th>0</th>\n",
       "      <td>LogisticRegression</td>\n",
       "      <td>0.833310</td>\n",
       "      <td>0.810174</td>\n",
       "      <td>0.852503</td>\n",
       "      <td>0.010070</td>\n",
       "      <td>0.369000</td>\n",
       "    </tr>\n",
       "    <tr>\n",
       "      <th>0</th>\n",
       "      <td>RandomForestClassifier</td>\n",
       "      <td>0.832907</td>\n",
       "      <td>0.806616</td>\n",
       "      <td>0.857839</td>\n",
       "      <td>0.013342</td>\n",
       "      <td>1.853993</td>\n",
       "    </tr>\n",
       "    <tr>\n",
       "      <th>0</th>\n",
       "      <td>SGDClassifier</td>\n",
       "      <td>0.826107</td>\n",
       "      <td>0.799075</td>\n",
       "      <td>0.849264</td>\n",
       "      <td>0.011127</td>\n",
       "      <td>0.268001</td>\n",
       "    </tr>\n",
       "    <tr>\n",
       "      <th>0</th>\n",
       "      <td>GaussianNB</td>\n",
       "      <td>0.825421</td>\n",
       "      <td>0.802706</td>\n",
       "      <td>0.836988</td>\n",
       "      <td>0.008596</td>\n",
       "      <td>0.194058</td>\n",
       "    </tr>\n",
       "    <tr>\n",
       "      <th>0</th>\n",
       "      <td>MultinomialNB</td>\n",
       "      <td>0.822174</td>\n",
       "      <td>0.800925</td>\n",
       "      <td>0.835979</td>\n",
       "      <td>0.008445</td>\n",
       "      <td>0.183999</td>\n",
       "    </tr>\n",
       "    <tr>\n",
       "      <th>0</th>\n",
       "      <td>SVC</td>\n",
       "      <td>0.813830</td>\n",
       "      <td>0.790669</td>\n",
       "      <td>0.838405</td>\n",
       "      <td>0.012011</td>\n",
       "      <td>4.053960</td>\n",
       "    </tr>\n",
       "    <tr>\n",
       "      <th>0</th>\n",
       "      <td>KNeighborsClassifier</td>\n",
       "      <td>0.771705</td>\n",
       "      <td>0.748905</td>\n",
       "      <td>0.797950</td>\n",
       "      <td>0.012448</td>\n",
       "      <td>0.262999</td>\n",
       "    </tr>\n",
       "    <tr>\n",
       "      <th>0</th>\n",
       "      <td>DecisionTreeClassifier</td>\n",
       "      <td>0.709011</td>\n",
       "      <td>0.684581</td>\n",
       "      <td>0.728237</td>\n",
       "      <td>0.011818</td>\n",
       "      <td>0.234994</td>\n",
       "    </tr>\n",
       "  </tbody>\n",
       "</table>\n",
       "</div>"
      ],
      "text/plain": [
       "                                               model   cv_mean    cv_min  \\\n",
       "0  <catboost.core.CatBoostClassifier object at 0x...  0.883539  0.854250   \n",
       "0                         GradientBoostingClassifier  0.870563  0.847646   \n",
       "0                                 LogisticRegression  0.833310  0.810174   \n",
       "0                             RandomForestClassifier  0.832907  0.806616   \n",
       "0                                      SGDClassifier  0.826107  0.799075   \n",
       "0                                         GaussianNB  0.825421  0.802706   \n",
       "0                                      MultinomialNB  0.822174  0.800925   \n",
       "0                                                SVC  0.813830  0.790669   \n",
       "0                               KNeighborsClassifier  0.771705  0.748905   \n",
       "0                             DecisionTreeClassifier  0.709011  0.684581   \n",
       "\n",
       "     cv_max    cv_std       time  \n",
       "0  0.905214  0.012303  22.538948  \n",
       "0  0.890712  0.011861   2.154994  \n",
       "0  0.852503  0.010070   0.369000  \n",
       "0  0.857839  0.013342   1.853993  \n",
       "0  0.849264  0.011127   0.268001  \n",
       "0  0.836988  0.008596   0.194058  \n",
       "0  0.835979  0.008445   0.183999  \n",
       "0  0.838405  0.012011   4.053960  \n",
       "0  0.797950  0.012448   0.262999  \n",
       "0  0.728237  0.011818   0.234994  "
      ]
     },
     "execution_count": 36,
     "metadata": {},
     "output_type": "execute_result"
    }
   ],
   "source": [
    "%%time\n",
    "model_score_ev =  pd.DataFrame()\n",
    "\n",
    "list_of_models = [LogisticRegression(random_state = randomness),\n",
    "                  SVC(random_state = randomness),\n",
    "                  GaussianNB(), \n",
    "                  MultinomialNB(),\n",
    "                  SGDClassifier(random_state = randomness),\n",
    "                  KNeighborsClassifier(),\n",
    "                  DecisionTreeClassifier(random_state = randomness),\n",
    "                  RandomForestClassifier(random_state = randomness),\n",
    "                  GradientBoostingClassifier(random_state = randomness),\n",
    "                  CatBoostClassifier(random_state = randomness, silent = True)\n",
    "                 ]\n",
    "\n",
    "for mod in list_of_models:\n",
    "    model_score_ev = model_score_ev.append(model_evaluation( mod, features_train, target_train))\n",
    "\n",
    "model_score_ev.sort_values(by = \"cv_mean\", ascending=False)"
   ]
  },
  {
   "cell_type": "markdown",
   "id": "3b18b3f5",
   "metadata": {},
   "source": [
    "- I will preform hyperparameter tuning on CatBoostClassifier\n",
    "\n",
    "### Hyperparameter tuning:"
   ]
  },
  {
   "cell_type": "code",
   "execution_count": 37,
   "id": "654d40f4",
   "metadata": {},
   "outputs": [
    {
     "name": "stdout",
     "output_type": "stream",
     "text": [
      "Fitting 5 folds for each of 16 candidates, totalling 80 fits\n",
      "Best Hyperparameters: {'learning_rate': 0.1, 'iterations': 1000}\n",
      "CPU times: total: 25.3 s\n",
      "Wall time: 2min 59s\n"
     ]
    }
   ],
   "source": [
    "%%time\n",
    "from sklearn.model_selection import RandomizedSearchCV\n",
    "\n",
    "param_test ={\n",
    "             'iterations': [ 1000, 1200, 1400, 1600 ],\n",
    "             'learning_rate':[0.03, 0.05, 0.08, 0.1]\n",
    "            }\n",
    "\n",
    "clf = CatBoostClassifier(random_state = randomness,\n",
    "                         l2_leaf_reg = 1,\n",
    "                         eval_metric = 'AUC',\n",
    "                         early_stopping_rounds = 5,\n",
    "                         custom_loss = 'AUC',\n",
    "                         depth = 6,\n",
    "                         silent = True )\n",
    "\n",
    "rf_random = RandomizedSearchCV(estimator=clf, \n",
    "                               param_distributions = param_test, \n",
    "                               n_iter= 100,\n",
    "                               scoring='roc_auc',\n",
    "                               cv=5,\n",
    "                               refit=True,\n",
    "                               random_state=randomness,\n",
    "                               verbose=2,\n",
    "                               n_jobs = -1)\n",
    "\n",
    "rf_random.fit(X_res, y_res, early_stopping_rounds=500)\n",
    "print('Best Hyperparameters:',rf_random.best_params_)"
   ]
  },
  {
   "cell_type": "markdown",
   "id": "436f1a46",
   "metadata": {},
   "source": [
    "### Compare model to baseline ( Zero Rate Classifier ):"
   ]
  },
  {
   "cell_type": "code",
   "execution_count": 63,
   "id": "6ced432b",
   "metadata": {},
   "outputs": [],
   "source": [
    "def baseline(target_train, target_test):\n",
    "    \n",
    "    t0= time.time()\n",
    "    value = np.bincount(target_test).argmax()\n",
    "    predictions1 = [value] * len(target_train)\n",
    "    predictions2 = [value] * len(target_test)\n",
    "    t1= time.time()\n",
    "\n",
    "    score= {'model': \"Zero Rate Classifier\",\n",
    "            'train_acc': [metrics.accuracy_score(target_train, predictions1)],\n",
    "            'train_roc_auc': [metrics.roc_auc_score(target_train, predictions1)],\n",
    "            'test_acc': [metrics.accuracy_score(target_test, predictions2)],\n",
    "            'test_roc_auc': [metrics.roc_auc_score(target_test, predictions2)],\n",
    "            'time': [t1 - t0],\n",
    "           }  \n",
    "\n",
    "    return pd.DataFrame(score)"
   ]
  },
  {
   "cell_type": "code",
   "execution_count": 56,
   "id": "e7524bb6",
   "metadata": {},
   "outputs": [],
   "source": [
    "mod = CatBoostClassifier(random_state = randomness,\n",
    "                         iterations =  1000,\n",
    "                         l2_leaf_reg = 1,\n",
    "                         eval_metric = 'AUC',\n",
    "                         learning_rate = 0.1,\n",
    "                         early_stopping_rounds = 5,\n",
    "                         custom_loss = 'AUC',\n",
    "                         subsample = 0.9,\n",
    "                         depth = 6,\n",
    "                         silent = True,\n",
    "                        )"
   ]
  },
  {
   "cell_type": "code",
   "execution_count": 64,
   "id": "72ce1260",
   "metadata": {},
   "outputs": [
    {
     "data": {
      "text/html": [
       "<div>\n",
       "<style scoped>\n",
       "    .dataframe tbody tr th:only-of-type {\n",
       "        vertical-align: middle;\n",
       "    }\n",
       "\n",
       "    .dataframe tbody tr th {\n",
       "        vertical-align: top;\n",
       "    }\n",
       "\n",
       "    .dataframe thead th {\n",
       "        text-align: right;\n",
       "    }\n",
       "</style>\n",
       "<table border=\"1\" class=\"dataframe\">\n",
       "  <thead>\n",
       "    <tr style=\"text-align: right;\">\n",
       "      <th></th>\n",
       "      <th>model</th>\n",
       "      <th>train_acc</th>\n",
       "      <th>train_roc_auc</th>\n",
       "      <th>test_acc</th>\n",
       "      <th>test_roc_auc</th>\n",
       "      <th>time</th>\n",
       "    </tr>\n",
       "  </thead>\n",
       "  <tbody>\n",
       "    <tr>\n",
       "      <th>0</th>\n",
       "      <td>Zero Rate Classifier</td>\n",
       "      <td>0.5</td>\n",
       "      <td>0.5</td>\n",
       "      <td>0.735273</td>\n",
       "      <td>0.5</td>\n",
       "      <td>0.0</td>\n",
       "    </tr>\n",
       "  </tbody>\n",
       "</table>\n",
       "</div>"
      ],
      "text/plain": [
       "                  model  train_acc  train_roc_auc  test_acc  test_roc_auc  \\\n",
       "0  Zero Rate Classifier        0.5            0.5  0.735273           0.5   \n",
       "\n",
       "   time  \n",
       "0   0.0  "
      ]
     },
     "execution_count": 64,
     "metadata": {},
     "output_type": "execute_result"
    }
   ],
   "source": [
    "baseline( y_res,target_test)"
   ]
  },
  {
   "cell_type": "code",
   "execution_count": 61,
   "id": "a80a466c",
   "metadata": {},
   "outputs": [
    {
     "data": {
      "text/html": [
       "<div>\n",
       "<style scoped>\n",
       "    .dataframe tbody tr th:only-of-type {\n",
       "        vertical-align: middle;\n",
       "    }\n",
       "\n",
       "    .dataframe tbody tr th {\n",
       "        vertical-align: top;\n",
       "    }\n",
       "\n",
       "    .dataframe thead th {\n",
       "        text-align: right;\n",
       "    }\n",
       "</style>\n",
       "<table border=\"1\" class=\"dataframe\">\n",
       "  <thead>\n",
       "    <tr style=\"text-align: right;\">\n",
       "      <th></th>\n",
       "      <th>model</th>\n",
       "      <th>train_acc</th>\n",
       "      <th>train_roc_auc</th>\n",
       "      <th>test_acc</th>\n",
       "      <th>test_roc_auc</th>\n",
       "      <th>time</th>\n",
       "    </tr>\n",
       "  </thead>\n",
       "  <tbody>\n",
       "    <tr>\n",
       "      <th>0</th>\n",
       "      <td>&lt;catboost.core.CatBoostClassifier object at 0x...</td>\n",
       "      <td>0.99741</td>\n",
       "      <td>0.999866</td>\n",
       "      <td>0.877928</td>\n",
       "      <td>0.932964</td>\n",
       "      <td>3.248784</td>\n",
       "    </tr>\n",
       "  </tbody>\n",
       "</table>\n",
       "</div>"
      ],
      "text/plain": [
       "                                               model  train_acc  \\\n",
       "0  <catboost.core.CatBoostClassifier object at 0x...    0.99741   \n",
       "\n",
       "   train_roc_auc  test_acc  test_roc_auc      time  \n",
       "0       0.999866  0.877928      0.932964  3.248784  "
      ]
     },
     "execution_count": 61,
     "metadata": {},
     "output_type": "execute_result"
    }
   ],
   "source": [
    "test_model(mod,X_res, y_res,features_test,target_test)"
   ]
  },
  {
   "cell_type": "markdown",
   "id": "e02f505d",
   "metadata": {},
   "source": [
    "### Conclusions:\n",
    "- I got test 'roc_auc' of 0.93 using \"CatBoostClassifier\"."
   ]
  }
 ],
 "metadata": {
  "ExecuteTimeLog": [
   {
    "duration": 1375,
    "start_time": "2022-07-26T05:31:56.911Z"
   },
   {
    "duration": 118,
    "start_time": "2022-07-26T05:33:59.791Z"
   },
   {
    "duration": 17,
    "start_time": "2022-07-26T05:34:03.691Z"
   },
   {
    "duration": 15,
    "start_time": "2022-07-26T05:34:13.152Z"
   },
   {
    "duration": 122,
    "start_time": "2022-07-26T05:35:04.651Z"
   },
   {
    "duration": 62,
    "start_time": "2022-07-26T05:35:30.556Z"
   },
   {
    "duration": 59,
    "start_time": "2022-07-26T05:35:36.292Z"
   },
   {
    "duration": 79,
    "start_time": "2022-07-26T05:36:10.642Z"
   },
   {
    "duration": 97,
    "start_time": "2022-07-26T05:36:27.872Z"
   },
   {
    "duration": 62,
    "start_time": "2022-07-26T05:37:27.342Z"
   },
   {
    "duration": 62,
    "start_time": "2022-07-26T05:37:57.622Z"
   },
   {
    "duration": 65,
    "start_time": "2022-07-26T05:38:11.553Z"
   },
   {
    "duration": 62,
    "start_time": "2022-07-26T05:39:24.844Z"
   },
   {
    "duration": 66,
    "start_time": "2022-07-26T05:43:03.462Z"
   },
   {
    "duration": 65,
    "start_time": "2022-07-26T05:43:24.242Z"
   },
   {
    "duration": 100,
    "start_time": "2022-07-26T05:44:05.511Z"
   },
   {
    "duration": 7,
    "start_time": "2022-07-26T05:44:16.272Z"
   },
   {
    "duration": 6,
    "start_time": "2022-07-26T05:46:23.323Z"
   },
   {
    "duration": 64,
    "start_time": "2022-07-26T05:47:02.272Z"
   },
   {
    "duration": 63,
    "start_time": "2022-07-26T05:47:17.793Z"
   },
   {
    "duration": 6,
    "start_time": "2022-07-26T05:48:45.184Z"
   },
   {
    "duration": 9,
    "start_time": "2022-07-26T05:49:21.412Z"
   },
   {
    "duration": 6,
    "start_time": "2022-07-26T05:50:23.023Z"
   },
   {
    "duration": 5,
    "start_time": "2022-07-26T05:50:31.903Z"
   },
   {
    "duration": 5,
    "start_time": "2022-07-26T05:50:38.153Z"
   },
   {
    "duration": 5,
    "start_time": "2022-07-26T05:50:41.152Z"
   },
   {
    "duration": 81,
    "start_time": "2022-07-26T05:53:22.583Z"
   },
   {
    "duration": 9,
    "start_time": "2022-07-26T05:54:33.313Z"
   },
   {
    "duration": 66,
    "start_time": "2022-07-26T06:01:08.472Z"
   },
   {
    "duration": 6,
    "start_time": "2022-07-26T06:05:52.424Z"
   },
   {
    "duration": 5,
    "start_time": "2022-07-26T06:05:58.787Z"
   },
   {
    "duration": 5,
    "start_time": "2022-07-26T06:06:09.357Z"
   },
   {
    "duration": 8,
    "start_time": "2022-07-26T06:07:24.055Z"
   },
   {
    "duration": 5,
    "start_time": "2022-07-26T06:07:24.767Z"
   },
   {
    "duration": 50,
    "start_time": "2022-07-26T06:12:37.501Z"
   },
   {
    "duration": 72,
    "start_time": "2022-07-26T06:13:08.154Z"
   },
   {
    "duration": 71,
    "start_time": "2022-07-26T06:13:24.456Z"
   },
   {
    "duration": 71,
    "start_time": "2022-07-26T06:14:09.845Z"
   },
   {
    "duration": 74,
    "start_time": "2022-07-26T06:16:59.661Z"
   },
   {
    "duration": 10,
    "start_time": "2022-07-26T06:17:15.926Z"
   },
   {
    "duration": 21,
    "start_time": "2022-07-26T06:17:24.799Z"
   },
   {
    "duration": 187,
    "start_time": "2022-07-26T06:18:14.235Z"
   },
   {
    "duration": 6,
    "start_time": "2022-07-26T06:18:30.560Z"
   },
   {
    "duration": 76,
    "start_time": "2022-07-26T06:19:04.735Z"
   },
   {
    "duration": 77,
    "start_time": "2022-07-26T06:20:02.670Z"
   },
   {
    "duration": 78,
    "start_time": "2022-07-26T06:20:41.135Z"
   },
   {
    "duration": 4,
    "start_time": "2022-07-26T06:25:52.870Z"
   },
   {
    "duration": 5,
    "start_time": "2022-07-26T06:25:53.690Z"
   },
   {
    "duration": 6,
    "start_time": "2022-07-26T06:26:06.343Z"
   },
   {
    "duration": 77,
    "start_time": "2022-07-26T06:27:43.736Z"
   },
   {
    "duration": 7,
    "start_time": "2022-07-26T06:28:01.799Z"
   },
   {
    "duration": 5,
    "start_time": "2022-07-26T06:29:48.570Z"
   },
   {
    "duration": 112,
    "start_time": "2022-07-26T06:29:59.109Z"
   },
   {
    "duration": 7,
    "start_time": "2022-07-26T06:30:08.349Z"
   },
   {
    "duration": 48,
    "start_time": "2022-07-26T06:30:23.717Z"
   },
   {
    "duration": 113,
    "start_time": "2022-07-26T06:30:26.079Z"
   },
   {
    "duration": 6,
    "start_time": "2022-07-26T06:30:34.039Z"
   },
   {
    "duration": 6,
    "start_time": "2022-07-26T06:33:24.489Z"
   },
   {
    "duration": 5,
    "start_time": "2022-07-26T06:34:23.241Z"
   },
   {
    "duration": 23,
    "start_time": "2022-07-26T06:35:29.502Z"
   },
   {
    "duration": 5,
    "start_time": "2022-07-26T06:35:49.145Z"
   },
   {
    "duration": 30,
    "start_time": "2022-07-26T06:35:49.565Z"
   },
   {
    "duration": 130,
    "start_time": "2022-07-26T06:36:21.104Z"
   },
   {
    "duration": 10,
    "start_time": "2022-07-26T06:36:29.323Z"
   },
   {
    "duration": 135,
    "start_time": "2022-07-26T06:36:32.683Z"
   },
   {
    "duration": 7,
    "start_time": "2022-07-26T06:37:01.342Z"
   },
   {
    "duration": 14,
    "start_time": "2022-07-26T06:38:12.347Z"
   },
   {
    "duration": 13,
    "start_time": "2022-07-26T06:38:15.838Z"
   },
   {
    "duration": 6,
    "start_time": "2022-07-26T06:38:28.042Z"
   },
   {
    "duration": 107,
    "start_time": "2022-07-26T06:38:43.443Z"
   },
   {
    "duration": 5,
    "start_time": "2022-07-26T06:39:27.135Z"
   },
   {
    "duration": 14,
    "start_time": "2022-07-26T06:39:28.720Z"
   },
   {
    "duration": 7,
    "start_time": "2022-07-26T06:39:32.520Z"
   },
   {
    "duration": 108,
    "start_time": "2022-07-26T06:39:35.278Z"
   },
   {
    "duration": 158,
    "start_time": "2022-07-26T06:47:11.117Z"
   },
   {
    "duration": 82,
    "start_time": "2022-07-26T06:47:48.546Z"
   },
   {
    "duration": 76,
    "start_time": "2022-07-26T06:48:19.347Z"
   },
   {
    "duration": 4,
    "start_time": "2022-07-26T07:54:12.552Z"
   },
   {
    "duration": 79,
    "start_time": "2022-07-26T07:54:13.667Z"
   },
   {
    "duration": 60,
    "start_time": "2022-07-26T07:58:04.870Z"
   },
   {
    "duration": 50,
    "start_time": "2022-07-26T07:58:37.670Z"
   },
   {
    "duration": 21,
    "start_time": "2022-07-26T07:58:47.389Z"
   },
   {
    "duration": 6,
    "start_time": "2022-07-26T07:59:01.401Z"
   },
   {
    "duration": 6,
    "start_time": "2022-07-26T07:59:12.200Z"
   },
   {
    "duration": 5,
    "start_time": "2022-07-26T07:59:19.353Z"
   },
   {
    "duration": 5,
    "start_time": "2022-07-26T07:59:26.519Z"
   },
   {
    "duration": 58,
    "start_time": "2022-07-26T07:59:41.699Z"
   },
   {
    "duration": 55,
    "start_time": "2022-07-26T08:04:48.789Z"
   },
   {
    "duration": 6,
    "start_time": "2022-07-26T08:05:13.829Z"
   },
   {
    "duration": 52,
    "start_time": "2022-07-26T08:06:17.469Z"
   },
   {
    "duration": 55,
    "start_time": "2022-07-26T08:06:24.939Z"
   },
   {
    "duration": 57,
    "start_time": "2022-07-26T08:07:03.133Z"
   },
   {
    "duration": 7,
    "start_time": "2022-07-26T08:07:20.652Z"
   },
   {
    "duration": 5,
    "start_time": "2022-07-26T08:07:26.552Z"
   },
   {
    "duration": 6,
    "start_time": "2022-07-26T08:07:32.447Z"
   },
   {
    "duration": 6,
    "start_time": "2022-07-26T08:07:37.923Z"
   },
   {
    "duration": 6,
    "start_time": "2022-07-26T08:07:47.582Z"
   },
   {
    "duration": 6,
    "start_time": "2022-07-26T08:07:56.671Z"
   },
   {
    "duration": 80,
    "start_time": "2022-07-26T08:10:12.817Z"
   },
   {
    "duration": 50,
    "start_time": "2022-07-26T08:10:57.963Z"
   },
   {
    "duration": 68,
    "start_time": "2022-07-26T08:11:03.550Z"
   },
   {
    "duration": 54,
    "start_time": "2022-07-26T08:11:27.912Z"
   },
   {
    "duration": 66,
    "start_time": "2022-07-26T08:11:58.020Z"
   },
   {
    "duration": 70,
    "start_time": "2022-07-26T08:12:37.180Z"
   },
   {
    "duration": 8,
    "start_time": "2022-07-26T08:14:23.982Z"
   },
   {
    "duration": 50,
    "start_time": "2022-07-26T08:15:26.535Z"
   },
   {
    "duration": 47,
    "start_time": "2022-07-26T08:15:49.952Z"
   },
   {
    "duration": 50,
    "start_time": "2022-07-26T08:15:57.557Z"
   },
   {
    "duration": 4,
    "start_time": "2022-07-26T08:16:56.080Z"
   },
   {
    "duration": 80,
    "start_time": "2022-07-26T08:16:56.280Z"
   },
   {
    "duration": 38,
    "start_time": "2022-07-26T08:16:56.489Z"
   },
   {
    "duration": 51,
    "start_time": "2022-07-26T08:16:56.701Z"
   },
   {
    "duration": 29,
    "start_time": "2022-07-26T08:16:56.931Z"
   },
   {
    "duration": 22,
    "start_time": "2022-07-26T08:19:26.833Z"
   },
   {
    "duration": 82,
    "start_time": "2022-07-26T08:19:26.964Z"
   },
   {
    "duration": 3,
    "start_time": "2022-07-26T08:19:32.407Z"
   },
   {
    "duration": 26,
    "start_time": "2022-07-26T08:21:02.250Z"
   },
   {
    "duration": 15,
    "start_time": "2022-07-26T08:21:10.810Z"
   },
   {
    "duration": 7,
    "start_time": "2022-07-26T08:21:37.651Z"
   },
   {
    "duration": 6,
    "start_time": "2022-07-26T08:21:48.989Z"
   },
   {
    "duration": 6,
    "start_time": "2022-07-26T08:22:04.572Z"
   },
   {
    "duration": 5,
    "start_time": "2022-07-26T08:22:09.739Z"
   },
   {
    "duration": 15,
    "start_time": "2022-07-26T08:22:16.534Z"
   },
   {
    "duration": 5,
    "start_time": "2022-07-26T08:22:59.303Z"
   },
   {
    "duration": 36,
    "start_time": "2022-07-26T08:24:19.677Z"
   },
   {
    "duration": 3,
    "start_time": "2022-07-26T09:55:13.535Z"
   },
   {
    "duration": 78,
    "start_time": "2022-07-26T09:55:14.160Z"
   },
   {
    "duration": 59,
    "start_time": "2022-07-26T09:55:15.859Z"
   },
   {
    "duration": 47,
    "start_time": "2022-07-26T09:55:16.259Z"
   },
   {
    "duration": 29,
    "start_time": "2022-07-26T09:55:16.469Z"
   },
   {
    "duration": 37,
    "start_time": "2022-07-26T09:55:16.689Z"
   },
   {
    "duration": 8,
    "start_time": "2022-07-26T09:55:56.841Z"
   },
   {
    "duration": 4,
    "start_time": "2022-07-26T09:56:10.591Z"
   },
   {
    "duration": 3,
    "start_time": "2022-07-26T09:56:11.759Z"
   },
   {
    "duration": 4,
    "start_time": "2022-07-26T09:56:18.544Z"
   },
   {
    "duration": 76,
    "start_time": "2022-07-26T09:56:55.398Z"
   },
   {
    "duration": 4,
    "start_time": "2022-07-26T09:57:42.236Z"
   },
   {
    "duration": 7,
    "start_time": "2022-07-26T09:57:54.000Z"
   },
   {
    "duration": 9,
    "start_time": "2022-07-26T09:58:03.859Z"
   },
   {
    "duration": 77,
    "start_time": "2022-07-26T09:58:19.100Z"
   },
   {
    "duration": 126,
    "start_time": "2022-07-26T09:58:49.179Z"
   },
   {
    "duration": 132,
    "start_time": "2022-07-26T09:59:50.099Z"
   },
   {
    "duration": 217,
    "start_time": "2022-07-26T10:00:41.419Z"
   },
   {
    "duration": 59,
    "start_time": "2022-07-26T10:01:32.189Z"
   },
   {
    "duration": 46,
    "start_time": "2022-07-26T10:01:32.457Z"
   },
   {
    "duration": 30,
    "start_time": "2022-07-26T10:01:32.735Z"
   },
   {
    "duration": 35,
    "start_time": "2022-07-26T10:01:33.189Z"
   },
   {
    "duration": 9,
    "start_time": "2022-07-26T10:01:33.659Z"
   },
   {
    "duration": 5,
    "start_time": "2022-07-26T10:01:45.189Z"
   },
   {
    "duration": 5,
    "start_time": "2022-07-26T10:38:33.211Z"
   },
   {
    "duration": 11,
    "start_time": "2022-07-26T10:38:40.271Z"
   },
   {
    "duration": 5,
    "start_time": "2022-07-26T10:38:49.771Z"
   },
   {
    "duration": 9,
    "start_time": "2022-07-26T10:39:12.321Z"
   },
   {
    "duration": 131,
    "start_time": "2022-07-26T10:39:23.020Z"
   },
   {
    "duration": 8,
    "start_time": "2022-07-26T10:39:34.538Z"
   },
   {
    "duration": 126,
    "start_time": "2022-07-26T10:39:43.343Z"
   },
   {
    "duration": 14,
    "start_time": "2022-07-26T10:39:59.421Z"
   },
   {
    "duration": 11,
    "start_time": "2022-07-26T10:40:08.392Z"
   },
   {
    "duration": 10,
    "start_time": "2022-07-26T10:40:13.012Z"
   },
   {
    "duration": 10,
    "start_time": "2022-07-26T10:40:19.682Z"
   },
   {
    "duration": 15,
    "start_time": "2022-07-26T10:40:23.611Z"
   },
   {
    "duration": 1205,
    "start_time": "2022-07-26T10:40:56.282Z"
   },
   {
    "duration": 444,
    "start_time": "2022-07-26T10:41:04.821Z"
   },
   {
    "duration": 405,
    "start_time": "2022-07-26T10:47:43.477Z"
   },
   {
    "duration": 479,
    "start_time": "2022-07-26T10:48:33.689Z"
   },
   {
    "duration": 10,
    "start_time": "2022-07-26T10:49:32.887Z"
   },
   {
    "duration": 122,
    "start_time": "2022-07-26T10:49:44.279Z"
   },
   {
    "duration": 10,
    "start_time": "2022-07-26T10:50:17.338Z"
   },
   {
    "duration": 8,
    "start_time": "2022-07-26T10:50:22.429Z"
   },
   {
    "duration": 543,
    "start_time": "2022-07-26T10:50:38.606Z"
   },
   {
    "duration": 506,
    "start_time": "2022-07-26T10:50:50.010Z"
   },
   {
    "duration": 9,
    "start_time": "2022-07-26T10:51:00.651Z"
   },
   {
    "duration": 13,
    "start_time": "2022-07-26T10:51:47.828Z"
   },
   {
    "duration": 15,
    "start_time": "2022-07-26T10:51:56.218Z"
   },
   {
    "duration": 1131,
    "start_time": "2022-07-26T10:52:42.158Z"
   },
   {
    "duration": 481,
    "start_time": "2022-07-26T10:52:51.367Z"
   },
   {
    "duration": 10,
    "start_time": "2022-07-26T10:53:03.848Z"
   },
   {
    "duration": 9,
    "start_time": "2022-07-26T10:53:14.377Z"
   },
   {
    "duration": 14,
    "start_time": "2022-07-26T10:54:01.669Z"
   },
   {
    "duration": 16,
    "start_time": "2022-07-26T10:55:28.204Z"
   },
   {
    "duration": 28,
    "start_time": "2022-07-26T10:56:54.641Z"
   },
   {
    "duration": 465,
    "start_time": "2022-07-26T10:57:37.016Z"
   },
   {
    "duration": 607,
    "start_time": "2022-07-26T10:57:47.485Z"
   },
   {
    "duration": 154,
    "start_time": "2022-07-26T10:58:48.280Z"
   },
   {
    "duration": 349,
    "start_time": "2022-07-26T10:59:50.528Z"
   },
   {
    "duration": 16,
    "start_time": "2022-07-26T11:01:10.551Z"
   },
   {
    "duration": 14,
    "start_time": "2022-07-26T11:01:40.225Z"
   },
   {
    "duration": 20,
    "start_time": "2022-07-26T11:02:18.321Z"
   },
   {
    "duration": 13,
    "start_time": "2022-07-26T11:03:28.826Z"
   },
   {
    "duration": 13,
    "start_time": "2022-07-26T11:03:51.943Z"
   },
   {
    "duration": 14,
    "start_time": "2022-07-26T11:04:20.892Z"
   },
   {
    "duration": 124,
    "start_time": "2022-07-26T11:04:26.563Z"
   },
   {
    "duration": 119,
    "start_time": "2022-07-26T11:04:45.843Z"
   },
   {
    "duration": 4,
    "start_time": "2022-07-26T11:07:57.240Z"
   },
   {
    "duration": 141,
    "start_time": "2022-07-26T11:08:31.235Z"
   },
   {
    "duration": 14,
    "start_time": "2022-07-26T11:08:47.564Z"
   },
   {
    "duration": 6,
    "start_time": "2022-07-26T11:08:57.023Z"
   },
   {
    "duration": 9,
    "start_time": "2022-07-26T11:09:19.695Z"
   },
   {
    "duration": 107,
    "start_time": "2022-07-26T11:09:40.153Z"
   },
   {
    "duration": 13,
    "start_time": "2022-07-26T11:09:46.337Z"
   },
   {
    "duration": 14,
    "start_time": "2022-07-26T11:11:03.867Z"
   },
   {
    "duration": 117,
    "start_time": "2022-07-26T11:11:30.058Z"
   },
   {
    "duration": 11,
    "start_time": "2022-07-26T11:12:49.124Z"
   },
   {
    "duration": 222,
    "start_time": "2022-07-26T11:13:47.124Z"
   },
   {
    "duration": 233,
    "start_time": "2022-07-26T11:14:33.843Z"
   },
   {
    "duration": 224,
    "start_time": "2022-07-26T11:19:05.524Z"
   },
   {
    "duration": 223,
    "start_time": "2022-07-26T11:19:34.170Z"
   },
   {
    "duration": 366,
    "start_time": "2022-07-26T11:20:04.243Z"
   },
   {
    "duration": 227,
    "start_time": "2022-07-26T11:20:09.272Z"
   },
   {
    "duration": 235,
    "start_time": "2022-07-26T11:20:15.472Z"
   },
   {
    "duration": 18,
    "start_time": "2022-07-26T11:21:38.242Z"
   },
   {
    "duration": 304,
    "start_time": "2022-07-26T11:21:38.723Z"
   },
   {
    "duration": 17,
    "start_time": "2022-07-26T11:22:03.784Z"
   },
   {
    "duration": 275,
    "start_time": "2022-07-26T11:22:05.402Z"
   },
   {
    "duration": 265,
    "start_time": "2022-07-26T11:23:58.352Z"
   },
   {
    "duration": 286,
    "start_time": "2022-07-26T11:24:08.993Z"
   },
   {
    "duration": 268,
    "start_time": "2022-07-26T11:24:19.170Z"
   },
   {
    "duration": 347,
    "start_time": "2022-07-26T11:25:11.713Z"
   },
   {
    "duration": 307,
    "start_time": "2022-07-26T11:27:01.250Z"
   },
   {
    "duration": 307,
    "start_time": "2022-07-26T11:29:11.570Z"
   },
   {
    "duration": 285,
    "start_time": "2022-07-26T11:30:28.120Z"
   },
   {
    "duration": 313,
    "start_time": "2022-07-26T11:31:14.020Z"
   },
   {
    "duration": 469,
    "start_time": "2022-07-26T11:42:05.361Z"
   },
   {
    "duration": 271,
    "start_time": "2022-07-26T11:42:14.371Z"
   },
   {
    "duration": 269,
    "start_time": "2022-07-26T11:42:19.481Z"
   },
   {
    "duration": 11,
    "start_time": "2022-07-26T12:19:55.529Z"
   },
   {
    "duration": 22,
    "start_time": "2022-07-26T12:37:50.241Z"
   },
   {
    "duration": 89,
    "start_time": "2022-07-26T12:38:32.372Z"
   },
   {
    "duration": 53,
    "start_time": "2022-07-26T12:38:36.872Z"
   },
   {
    "duration": 42,
    "start_time": "2022-07-26T12:38:39.522Z"
   },
   {
    "duration": 17,
    "start_time": "2022-07-26T12:38:44.165Z"
   },
   {
    "duration": 6,
    "start_time": "2022-07-26T12:39:47.474Z"
   },
   {
    "duration": 39,
    "start_time": "2022-07-26T12:43:00.722Z"
   },
   {
    "duration": 57,
    "start_time": "2022-07-26T12:46:49.875Z"
   },
   {
    "duration": 10,
    "start_time": "2022-07-26T12:54:13.537Z"
   },
   {
    "duration": 11,
    "start_time": "2022-07-26T13:21:09.076Z"
   },
   {
    "duration": 89,
    "start_time": "2022-07-27T13:31:14.676Z"
   },
   {
    "duration": 1125,
    "start_time": "2022-07-31T06:54:29.415Z"
   },
   {
    "duration": 17,
    "start_time": "2022-07-31T06:54:30.546Z"
   },
   {
    "duration": 108,
    "start_time": "2022-07-31T06:54:30.565Z"
   },
   {
    "duration": 50,
    "start_time": "2022-07-31T06:54:30.676Z"
   },
   {
    "duration": 55,
    "start_time": "2022-07-31T06:54:30.728Z"
   },
   {
    "duration": 29,
    "start_time": "2022-07-31T06:54:30.785Z"
   },
   {
    "duration": 48,
    "start_time": "2022-07-31T06:54:30.816Z"
   },
   {
    "duration": 361,
    "start_time": "2022-07-31T06:54:30.866Z"
   },
   {
    "duration": 6,
    "start_time": "2022-07-31T06:54:31.230Z"
   },
   {
    "duration": 38,
    "start_time": "2022-07-31T06:54:31.239Z"
   },
   {
    "duration": 16,
    "start_time": "2022-07-31T06:57:08.161Z"
   },
   {
    "duration": 9,
    "start_time": "2022-07-31T06:59:55.665Z"
   },
   {
    "duration": 54,
    "start_time": "2022-07-31T07:02:04.625Z"
   },
   {
    "duration": 6,
    "start_time": "2022-07-31T07:06:56.168Z"
   },
   {
    "duration": 5,
    "start_time": "2022-07-31T07:07:03.718Z"
   },
   {
    "duration": 11,
    "start_time": "2022-07-31T07:07:16.218Z"
   },
   {
    "duration": 10,
    "start_time": "2022-07-31T07:07:23.288Z"
   },
   {
    "duration": 14,
    "start_time": "2022-07-31T07:07:27.128Z"
   },
   {
    "duration": 37,
    "start_time": "2022-07-31T07:07:50.120Z"
   },
   {
    "duration": 21,
    "start_time": "2022-07-31T07:12:08.632Z"
   },
   {
    "duration": 35,
    "start_time": "2022-07-31T07:13:36.144Z"
   },
   {
    "duration": 24,
    "start_time": "2022-07-31T07:13:39.593Z"
   },
   {
    "duration": 117,
    "start_time": "2022-07-31T07:18:49.420Z"
   },
   {
    "duration": 15,
    "start_time": "2022-07-31T07:18:53.369Z"
   },
   {
    "duration": 4,
    "start_time": "2022-07-31T07:24:58.749Z"
   },
   {
    "duration": 18,
    "start_time": "2022-07-31T07:25:04.819Z"
   },
   {
    "duration": 18,
    "start_time": "2022-07-31T07:25:53.339Z"
   },
   {
    "duration": 7,
    "start_time": "2022-07-31T07:27:27.399Z"
   },
   {
    "duration": 22,
    "start_time": "2022-07-31T07:28:21.872Z"
   },
   {
    "duration": 46,
    "start_time": "2022-07-31T07:34:07.455Z"
   },
   {
    "duration": 4,
    "start_time": "2022-07-31T07:34:12.279Z"
   },
   {
    "duration": 5,
    "start_time": "2022-07-31T07:34:35.456Z"
   },
   {
    "duration": 4,
    "start_time": "2022-07-31T07:34:53.619Z"
   },
   {
    "duration": 18,
    "start_time": "2022-07-31T07:35:55.359Z"
   },
   {
    "duration": 3,
    "start_time": "2022-07-31T07:36:10.200Z"
   },
   {
    "duration": 40,
    "start_time": "2022-07-31T07:36:13.059Z"
   },
   {
    "duration": 22,
    "start_time": "2022-07-31T07:36:19.629Z"
   },
   {
    "duration": 4,
    "start_time": "2022-07-31T07:36:22.160Z"
   },
   {
    "duration": 66,
    "start_time": "2022-07-31T07:36:22.959Z"
   },
   {
    "duration": 39,
    "start_time": "2022-07-31T07:36:35.557Z"
   },
   {
    "duration": 15,
    "start_time": "2022-07-31T07:36:41.719Z"
   },
   {
    "duration": 39,
    "start_time": "2022-07-31T07:37:20.579Z"
   },
   {
    "duration": 13,
    "start_time": "2022-07-31T07:37:22.109Z"
   },
   {
    "duration": 5,
    "start_time": "2022-07-31T07:39:43.321Z"
   },
   {
    "duration": 53,
    "start_time": "2022-07-31T07:39:43.564Z"
   },
   {
    "duration": 31,
    "start_time": "2022-07-31T07:40:03.319Z"
   },
   {
    "duration": 10,
    "start_time": "2022-07-31T07:43:53.429Z"
   },
   {
    "duration": 6,
    "start_time": "2022-07-31T07:44:11.499Z"
   },
   {
    "duration": 5,
    "start_time": "2022-07-31T07:44:19.138Z"
   },
   {
    "duration": 4,
    "start_time": "2022-07-31T07:44:23.454Z"
   },
   {
    "duration": 9,
    "start_time": "2022-07-31T07:44:50.579Z"
   },
   {
    "duration": 11,
    "start_time": "2022-07-31T07:45:20.794Z"
   },
   {
    "duration": 16,
    "start_time": "2022-07-31T07:45:48.789Z"
   },
   {
    "duration": 24,
    "start_time": "2022-07-31T07:46:28.590Z"
   },
   {
    "duration": 18,
    "start_time": "2022-07-31T07:47:08.070Z"
   },
   {
    "duration": 290,
    "start_time": "2022-07-31T08:38:09.530Z"
   },
   {
    "duration": 3,
    "start_time": "2022-07-31T08:38:27.553Z"
   },
   {
    "duration": 12,
    "start_time": "2022-07-31T08:41:11.192Z"
   },
   {
    "duration": 12,
    "start_time": "2022-07-31T08:41:39.637Z"
   },
   {
    "duration": 24,
    "start_time": "2022-07-31T08:41:44.302Z"
   },
   {
    "duration": 35,
    "start_time": "2022-07-31T08:41:54.022Z"
   },
   {
    "duration": 6,
    "start_time": "2022-07-31T08:42:14.574Z"
   },
   {
    "duration": 8,
    "start_time": "2022-07-31T08:43:03.902Z"
   },
   {
    "duration": 10,
    "start_time": "2022-07-31T08:46:19.897Z"
   },
   {
    "duration": 23,
    "start_time": "2022-07-31T08:46:27.356Z"
   },
   {
    "duration": 11,
    "start_time": "2022-07-31T08:47:10.548Z"
   },
   {
    "duration": 24,
    "start_time": "2022-07-31T08:48:06.005Z"
   },
   {
    "duration": 5,
    "start_time": "2022-07-31T08:48:08.475Z"
   },
   {
    "duration": 3,
    "start_time": "2022-07-31T08:54:29.762Z"
   },
   {
    "duration": 8,
    "start_time": "2022-07-31T08:54:33.489Z"
   },
   {
    "duration": 5,
    "start_time": "2022-07-31T08:54:36.427Z"
   },
   {
    "duration": 34,
    "start_time": "2022-07-31T08:55:20.427Z"
   },
   {
    "duration": 30,
    "start_time": "2022-07-31T08:56:20.754Z"
   },
   {
    "duration": 11,
    "start_time": "2022-07-31T08:56:35.570Z"
   },
   {
    "duration": 16,
    "start_time": "2022-07-31T08:57:35.050Z"
   },
   {
    "duration": 7,
    "start_time": "2022-07-31T08:57:44.492Z"
   },
   {
    "duration": 14,
    "start_time": "2022-07-31T08:57:58.663Z"
   },
   {
    "duration": 7,
    "start_time": "2022-07-31T08:58:09.620Z"
   },
   {
    "duration": 12,
    "start_time": "2022-07-31T08:58:58.061Z"
   },
   {
    "duration": 7,
    "start_time": "2022-07-31T08:59:57.796Z"
   },
   {
    "duration": 6,
    "start_time": "2022-07-31T09:00:06.955Z"
   },
   {
    "duration": 7,
    "start_time": "2022-07-31T09:00:19.382Z"
   },
   {
    "duration": 93,
    "start_time": "2022-07-31T09:00:33.524Z"
   },
   {
    "duration": 13,
    "start_time": "2022-07-31T09:00:39.553Z"
   },
   {
    "duration": 7,
    "start_time": "2022-07-31T09:00:47.451Z"
   },
   {
    "duration": 6,
    "start_time": "2022-07-31T09:01:02.754Z"
   },
   {
    "duration": 7,
    "start_time": "2022-07-31T09:01:09.533Z"
   },
   {
    "duration": 8,
    "start_time": "2022-07-31T09:01:22.292Z"
   },
   {
    "duration": 9,
    "start_time": "2022-07-31T09:01:34.332Z"
   },
   {
    "duration": 10,
    "start_time": "2022-07-31T09:01:50.792Z"
   },
   {
    "duration": 4,
    "start_time": "2022-07-31T09:01:54.502Z"
   },
   {
    "duration": 5,
    "start_time": "2022-07-31T09:01:57.113Z"
   },
   {
    "duration": 13,
    "start_time": "2022-07-31T09:06:33.790Z"
   },
   {
    "duration": 25,
    "start_time": "2022-07-31T09:06:41.309Z"
   },
   {
    "duration": 6,
    "start_time": "2022-07-31T09:07:17.069Z"
   },
   {
    "duration": 6,
    "start_time": "2022-07-31T09:08:51.188Z"
   },
   {
    "duration": 6,
    "start_time": "2022-07-31T09:08:53.143Z"
   },
   {
    "duration": 4,
    "start_time": "2022-07-31T09:09:12.668Z"
   },
   {
    "duration": 19,
    "start_time": "2022-07-31T09:09:13.007Z"
   },
   {
    "duration": 10,
    "start_time": "2022-07-31T09:09:22.753Z"
   },
   {
    "duration": 10,
    "start_time": "2022-07-31T09:09:29.151Z"
   },
   {
    "duration": 4,
    "start_time": "2022-07-31T09:09:57.231Z"
   },
   {
    "duration": 3,
    "start_time": "2022-07-31T09:10:03.038Z"
   },
   {
    "duration": 4,
    "start_time": "2022-07-31T09:10:06.987Z"
   },
   {
    "duration": 4,
    "start_time": "2022-07-31T09:10:10.377Z"
   },
   {
    "duration": 4,
    "start_time": "2022-07-31T09:10:14.267Z"
   },
   {
    "duration": 4,
    "start_time": "2022-07-31T09:10:18.317Z"
   },
   {
    "duration": 9,
    "start_time": "2022-07-31T09:10:22.827Z"
   },
   {
    "duration": 312,
    "start_time": "2022-07-31T09:11:32.106Z"
   },
   {
    "duration": 11,
    "start_time": "2022-07-31T09:12:33.507Z"
   },
   {
    "duration": 309,
    "start_time": "2022-07-31T09:12:36.307Z"
   },
   {
    "duration": 3,
    "start_time": "2022-07-31T09:12:45.656Z"
   },
   {
    "duration": 13,
    "start_time": "2022-07-31T09:12:47.227Z"
   },
   {
    "duration": 372,
    "start_time": "2022-07-31T09:12:47.817Z"
   },
   {
    "duration": 6,
    "start_time": "2022-07-31T09:15:23.985Z"
   },
   {
    "duration": 15,
    "start_time": "2022-07-31T09:15:24.335Z"
   },
   {
    "duration": 291,
    "start_time": "2022-07-31T09:15:24.754Z"
   },
   {
    "duration": 5,
    "start_time": "2022-07-31T09:15:59.011Z"
   },
   {
    "duration": 16,
    "start_time": "2022-07-31T09:16:00.255Z"
   },
   {
    "duration": 285,
    "start_time": "2022-07-31T09:16:01.975Z"
   },
   {
    "duration": 4,
    "start_time": "2022-07-31T09:16:24.265Z"
   },
   {
    "duration": 16,
    "start_time": "2022-07-31T09:16:24.825Z"
   },
   {
    "duration": 320,
    "start_time": "2022-07-31T09:16:25.945Z"
   },
   {
    "duration": 4,
    "start_time": "2022-07-31T09:16:40.796Z"
   },
   {
    "duration": 16,
    "start_time": "2022-07-31T09:16:41.015Z"
   },
   {
    "duration": 291,
    "start_time": "2022-07-31T09:16:41.255Z"
   },
   {
    "duration": 4,
    "start_time": "2022-07-31T09:17:10.525Z"
   },
   {
    "duration": 15,
    "start_time": "2022-07-31T09:17:10.774Z"
   },
   {
    "duration": 290,
    "start_time": "2022-07-31T09:17:10.984Z"
   },
   {
    "duration": 4,
    "start_time": "2022-07-31T09:17:22.635Z"
   },
   {
    "duration": 16,
    "start_time": "2022-07-31T09:17:22.855Z"
   },
   {
    "duration": 291,
    "start_time": "2022-07-31T09:17:23.065Z"
   },
   {
    "duration": 5,
    "start_time": "2022-07-31T09:17:41.065Z"
   },
   {
    "duration": 19,
    "start_time": "2022-07-31T09:17:41.292Z"
   },
   {
    "duration": 299,
    "start_time": "2022-07-31T09:17:41.485Z"
   },
   {
    "duration": 3,
    "start_time": "2022-07-31T09:17:59.932Z"
   },
   {
    "duration": 14,
    "start_time": "2022-07-31T09:18:00.084Z"
   },
   {
    "duration": 293,
    "start_time": "2022-07-31T09:18:00.275Z"
   },
   {
    "duration": 294,
    "start_time": "2022-07-31T09:20:41.055Z"
   },
   {
    "duration": 7,
    "start_time": "2022-07-31T10:22:14.300Z"
   },
   {
    "duration": 5,
    "start_time": "2022-07-31T10:22:19.334Z"
   },
   {
    "duration": 8,
    "start_time": "2022-07-31T10:23:28.656Z"
   },
   {
    "duration": 7,
    "start_time": "2022-07-31T10:23:34.742Z"
   },
   {
    "duration": 5,
    "start_time": "2022-07-31T10:23:45.152Z"
   },
   {
    "duration": 4,
    "start_time": "2022-07-31T10:23:51.060Z"
   },
   {
    "duration": 86,
    "start_time": "2022-07-31T10:24:53.800Z"
   },
   {
    "duration": 5,
    "start_time": "2022-07-31T10:25:04.360Z"
   },
   {
    "duration": 57,
    "start_time": "2022-07-31T10:25:08.159Z"
   },
   {
    "duration": 19,
    "start_time": "2022-07-31T10:25:50.152Z"
   },
   {
    "duration": 15,
    "start_time": "2022-07-31T10:25:58.235Z"
   },
   {
    "duration": 4,
    "start_time": "2022-07-31T10:26:01.670Z"
   },
   {
    "duration": 16,
    "start_time": "2022-07-31T10:26:02.210Z"
   },
   {
    "duration": 323,
    "start_time": "2022-07-31T10:26:02.947Z"
   },
   {
    "duration": 21,
    "start_time": "2022-07-31T10:28:05.832Z"
   },
   {
    "duration": 432,
    "start_time": "2022-07-31T10:28:07.282Z"
   },
   {
    "duration": 11,
    "start_time": "2022-07-31T10:55:09.779Z"
   },
   {
    "duration": 5,
    "start_time": "2022-07-31T10:58:17.138Z"
   },
   {
    "duration": 208,
    "start_time": "2022-07-31T10:58:18.596Z"
   },
   {
    "duration": 9861,
    "start_time": "2022-07-31T10:59:49.977Z"
   },
   {
    "duration": 19,
    "start_time": "2022-07-31T11:02:09.029Z"
   },
   {
    "duration": 11,
    "start_time": "2022-07-31T11:02:44.858Z"
   },
   {
    "duration": 10724,
    "start_time": "2022-07-31T11:06:29.584Z"
   },
   {
    "duration": 5,
    "start_time": "2022-07-31T11:06:45.355Z"
   },
   {
    "duration": 546557,
    "start_time": "2022-07-31T11:06:48.702Z"
   },
   {
    "duration": 12,
    "start_time": "2022-07-31T11:15:55.261Z"
   },
   {
    "duration": 3001,
    "start_time": "2022-07-31T11:19:44.843Z"
   },
   {
    "duration": 77317,
    "start_time": "2022-07-31T11:20:11.237Z"
   },
   {
    "duration": 1041,
    "start_time": "2022-07-31T11:21:40.833Z"
   },
   {
    "duration": 51080,
    "start_time": "2022-07-31T11:21:54.412Z"
   },
   {
    "duration": 6,
    "start_time": "2022-07-31T11:25:21.853Z"
   },
   {
    "duration": 1052,
    "start_time": "2022-07-31T11:25:40.566Z"
   },
   {
    "duration": 374952,
    "start_time": "2022-07-31T11:26:07.777Z"
   },
   {
    "duration": 84155,
    "start_time": "2022-07-31T11:32:29.212Z"
   },
   {
    "duration": 4496,
    "start_time": "2022-07-31T11:35:47.053Z"
   },
   {
    "duration": 7,
    "start_time": "2022-07-31T11:36:27.160Z"
   },
   {
    "duration": 5151,
    "start_time": "2022-07-31T11:36:36.067Z"
   },
   {
    "duration": 17785,
    "start_time": "2022-07-31T11:37:47.849Z"
   },
   {
    "duration": 50,
    "start_time": "2022-07-31T11:45:00.435Z"
   },
   {
    "duration": 19,
    "start_time": "2022-07-31T11:45:06.485Z"
   },
   {
    "duration": 6,
    "start_time": "2022-07-31T11:45:10.848Z"
   },
   {
    "duration": 4,
    "start_time": "2022-07-31T11:45:21.464Z"
   },
   {
    "duration": 15,
    "start_time": "2022-07-31T11:45:22.548Z"
   },
   {
    "duration": 307,
    "start_time": "2022-07-31T11:45:23.364Z"
   },
   {
    "duration": 1361,
    "start_time": "2022-08-01T05:37:11.614Z"
   },
   {
    "duration": 14,
    "start_time": "2022-08-01T05:37:12.978Z"
   },
   {
    "duration": 251,
    "start_time": "2022-08-01T05:37:12.993Z"
   },
   {
    "duration": 180,
    "start_time": "2022-08-01T05:37:13.246Z"
   },
   {
    "duration": 64,
    "start_time": "2022-08-01T05:37:13.428Z"
   },
   {
    "duration": 120,
    "start_time": "2022-08-01T05:37:13.493Z"
   },
   {
    "duration": 53,
    "start_time": "2022-08-01T05:37:13.614Z"
   },
   {
    "duration": 38,
    "start_time": "2022-08-01T05:37:13.668Z"
   },
   {
    "duration": 373,
    "start_time": "2022-08-01T05:37:13.865Z"
   },
   {
    "duration": 12,
    "start_time": "2022-08-01T05:37:14.240Z"
   },
   {
    "duration": 4,
    "start_time": "2022-08-01T05:37:14.571Z"
   },
   {
    "duration": 46,
    "start_time": "2022-08-01T05:37:14.824Z"
   },
   {
    "duration": 20,
    "start_time": "2022-08-01T05:37:15.294Z"
   },
   {
    "duration": 5,
    "start_time": "2022-08-01T05:37:15.784Z"
   },
   {
    "duration": 4,
    "start_time": "2022-08-01T05:37:16.262Z"
   },
   {
    "duration": 21,
    "start_time": "2022-08-01T05:37:16.504Z"
   },
   {
    "duration": 325,
    "start_time": "2022-08-01T05:37:16.954Z"
   },
   {
    "duration": 78,
    "start_time": "2022-08-01T05:37:17.425Z"
   },
   {
    "duration": 5,
    "start_time": "2022-08-01T05:37:17.654Z"
   },
   {
    "duration": 16417,
    "start_time": "2022-08-01T05:37:17.924Z"
   },
   {
    "duration": 3,
    "start_time": "2022-08-01T05:58:02.392Z"
   },
   {
    "duration": 4,
    "start_time": "2022-08-01T05:58:09.343Z"
   },
   {
    "duration": 4,
    "start_time": "2022-08-01T05:58:18.873Z"
   },
   {
    "duration": 107,
    "start_time": "2022-08-01T05:58:23.240Z"
   },
   {
    "duration": 4,
    "start_time": "2022-08-01T05:58:27.352Z"
   },
   {
    "duration": 4,
    "start_time": "2022-08-01T05:58:43.182Z"
   },
   {
    "duration": 86,
    "start_time": "2022-08-01T06:06:22.714Z"
   },
   {
    "duration": 95,
    "start_time": "2022-08-01T06:10:19.627Z"
   },
   {
    "duration": 95,
    "start_time": "2022-08-01T06:10:34.287Z"
   },
   {
    "duration": 101,
    "start_time": "2022-08-01T06:10:38.288Z"
   },
   {
    "duration": 723,
    "start_time": "2022-08-01T06:10:42.398Z"
   },
   {
    "duration": 701,
    "start_time": "2022-08-01T06:11:41.567Z"
   },
   {
    "duration": 1225,
    "start_time": "2022-08-01T11:01:14.544Z"
   },
   {
    "duration": 12,
    "start_time": "2022-08-01T11:01:15.771Z"
   },
   {
    "duration": 240,
    "start_time": "2022-08-01T11:01:15.785Z"
   },
   {
    "duration": 176,
    "start_time": "2022-08-01T11:01:16.027Z"
   },
   {
    "duration": 61,
    "start_time": "2022-08-01T11:01:16.205Z"
   },
   {
    "duration": 115,
    "start_time": "2022-08-01T11:01:16.267Z"
   },
   {
    "duration": 49,
    "start_time": "2022-08-01T11:01:16.383Z"
   },
   {
    "duration": 32,
    "start_time": "2022-08-01T11:01:16.434Z"
   },
   {
    "duration": 300,
    "start_time": "2022-08-01T11:01:16.468Z"
   },
   {
    "duration": 10,
    "start_time": "2022-08-01T11:01:16.770Z"
   },
   {
    "duration": 32,
    "start_time": "2022-08-01T11:01:16.781Z"
   },
   {
    "duration": 39,
    "start_time": "2022-08-01T11:01:16.880Z"
   },
   {
    "duration": 17,
    "start_time": "2022-08-01T11:01:17.260Z"
   },
   {
    "duration": 5,
    "start_time": "2022-08-01T11:01:17.570Z"
   },
   {
    "duration": 4,
    "start_time": "2022-08-01T11:01:17.941Z"
   },
   {
    "duration": 14,
    "start_time": "2022-08-01T11:01:18.145Z"
   },
   {
    "duration": 271,
    "start_time": "2022-08-01T11:01:18.680Z"
   },
   {
    "duration": 61,
    "start_time": "2022-08-01T11:01:19.947Z"
   },
   {
    "duration": 5,
    "start_time": "2022-08-01T11:01:20.380Z"
   },
   {
    "duration": 13915,
    "start_time": "2022-08-01T11:01:21.644Z"
   },
   {
    "duration": 3,
    "start_time": "2022-08-01T11:17:13.016Z"
   },
   {
    "duration": 17,
    "start_time": "2022-08-01T11:17:26.196Z"
   },
   {
    "duration": 741,
    "start_time": "2022-08-01T11:17:59.054Z"
   },
   {
    "duration": 3,
    "start_time": "2022-08-01T11:18:07.386Z"
   },
   {
    "duration": 5,
    "start_time": "2022-08-01T11:22:04.217Z"
   },
   {
    "duration": 1273,
    "start_time": "2022-08-01T11:22:06.862Z"
   },
   {
    "duration": 87620,
    "start_time": "2022-08-01T11:28:22.103Z"
   },
   {
    "duration": 6035,
    "start_time": "2022-08-01T11:38:05.890Z"
   },
   {
    "duration": 61235,
    "start_time": "2022-08-01T11:38:50.582Z"
   },
   {
    "duration": 7883,
    "start_time": "2022-08-01T11:40:16.550Z"
   },
   {
    "duration": 5,
    "start_time": "2022-08-01T11:40:38.492Z"
   },
   {
    "duration": 5,
    "start_time": "2022-08-01T11:40:56.765Z"
   },
   {
    "duration": 4,
    "start_time": "2022-08-01T11:41:23.646Z"
   },
   {
    "duration": 5,
    "start_time": "2022-08-01T11:42:27.449Z"
   },
   {
    "duration": 4,
    "start_time": "2022-08-01T11:43:20.568Z"
   },
   {
    "duration": 3,
    "start_time": "2022-08-01T11:43:32.988Z"
   },
   {
    "duration": 626018,
    "start_time": "2022-08-01T11:43:40.947Z"
   },
   {
    "duration": 4,
    "start_time": "2022-08-01T12:14:35.122Z"
   },
   {
    "duration": 3,
    "start_time": "2022-08-01T12:14:36.565Z"
   },
   {
    "duration": 1774,
    "start_time": "2022-08-01T12:16:59.094Z"
   },
   {
    "duration": 1818,
    "start_time": "2022-08-01T12:17:20.201Z"
   },
   {
    "duration": 3,
    "start_time": "2022-08-01T12:49:16.878Z"
   },
   {
    "duration": 1373,
    "start_time": "2022-08-05T06:52:38.515Z"
   },
   {
    "duration": 17,
    "start_time": "2022-08-05T06:52:39.890Z"
   },
   {
    "duration": 276,
    "start_time": "2022-08-05T06:52:39.908Z"
   },
   {
    "duration": 193,
    "start_time": "2022-08-05T06:52:40.186Z"
   },
   {
    "duration": 65,
    "start_time": "2022-08-05T06:52:40.381Z"
   },
   {
    "duration": 129,
    "start_time": "2022-08-05T06:52:40.448Z"
   },
   {
    "duration": 52,
    "start_time": "2022-08-05T06:52:40.579Z"
   },
   {
    "duration": 51,
    "start_time": "2022-08-05T06:52:40.633Z"
   },
   {
    "duration": 427,
    "start_time": "2022-08-05T06:52:41.478Z"
   },
   {
    "duration": 11,
    "start_time": "2022-08-05T06:52:41.907Z"
   },
   {
    "duration": 4,
    "start_time": "2022-08-05T06:52:43.405Z"
   },
   {
    "duration": 50,
    "start_time": "2022-08-05T06:52:43.755Z"
   },
   {
    "duration": 15,
    "start_time": "2022-08-05T06:52:55.197Z"
   },
   {
    "duration": 5,
    "start_time": "2022-08-05T06:53:04.606Z"
   },
   {
    "duration": 4,
    "start_time": "2022-08-05T06:53:07.818Z"
   },
   {
    "duration": 21,
    "start_time": "2022-08-05T06:53:08.080Z"
   },
   {
    "duration": 333,
    "start_time": "2022-08-05T06:53:12.753Z"
   },
   {
    "duration": 68,
    "start_time": "2022-08-05T06:53:15.683Z"
   },
   {
    "duration": 5,
    "start_time": "2022-08-05T06:53:15.951Z"
   },
   {
    "duration": 18007,
    "start_time": "2022-08-05T06:53:22.254Z"
   },
   {
    "duration": 23,
    "start_time": "2022-08-05T06:53:40.264Z"
   },
   {
    "duration": 23600,
    "start_time": "2022-08-05T07:06:46.840Z"
   },
   {
    "duration": 4,
    "start_time": "2022-08-05T07:07:12.162Z"
   },
   {
    "duration": 4,
    "start_time": "2022-08-05T07:07:17.625Z"
   },
   {
    "duration": 4,
    "start_time": "2022-08-05T07:07:21.218Z"
   },
   {
    "duration": 5,
    "start_time": "2022-08-05T07:07:36.061Z"
   },
   {
    "duration": 4,
    "start_time": "2022-08-05T07:10:50.550Z"
   },
   {
    "duration": 5,
    "start_time": "2022-08-05T07:10:51.278Z"
   },
   {
    "duration": 308,
    "start_time": "2022-08-05T07:10:53.627Z"
   },
   {
    "duration": 58728,
    "start_time": "2022-08-05T07:11:50.613Z"
   },
   {
    "duration": 16,
    "start_time": "2022-08-05T07:12:49.343Z"
   },
   {
    "duration": 9,
    "start_time": "2022-08-05T07:14:24.916Z"
   },
   {
    "duration": 11,
    "start_time": "2022-08-05T07:14:31.586Z"
   },
   {
    "duration": 1382,
    "start_time": "2022-08-05T14:29:45.146Z"
   },
   {
    "duration": 18,
    "start_time": "2022-08-05T14:29:46.531Z"
   },
   {
    "duration": 237,
    "start_time": "2022-08-05T14:29:46.551Z"
   },
   {
    "duration": 227,
    "start_time": "2022-08-05T14:29:46.791Z"
   },
   {
    "duration": 173,
    "start_time": "2022-08-05T14:29:47.020Z"
   },
   {
    "duration": 72,
    "start_time": "2022-08-05T14:29:47.195Z"
   },
   {
    "duration": 133,
    "start_time": "2022-08-05T14:29:47.269Z"
   },
   {
    "duration": 47,
    "start_time": "2022-08-05T14:29:47.404Z"
   },
   {
    "duration": 392,
    "start_time": "2022-08-05T14:29:47.454Z"
   },
   {
    "duration": 13,
    "start_time": "2022-08-05T14:29:47.848Z"
   },
   {
    "duration": 4,
    "start_time": "2022-08-05T14:29:48.088Z"
   },
   {
    "duration": 42,
    "start_time": "2022-08-05T14:29:48.297Z"
   },
   {
    "duration": 14,
    "start_time": "2022-08-05T14:29:48.949Z"
   },
   {
    "duration": 6,
    "start_time": "2022-08-05T14:29:49.637Z"
   },
   {
    "duration": 4,
    "start_time": "2022-08-05T14:29:50.270Z"
   },
   {
    "duration": 18,
    "start_time": "2022-08-05T14:29:50.499Z"
   },
   {
    "duration": 312,
    "start_time": "2022-08-05T14:29:50.969Z"
   },
   {
    "duration": 104,
    "start_time": "2022-08-05T14:29:51.443Z"
   },
   {
    "duration": 10,
    "start_time": "2022-08-05T14:29:51.640Z"
   },
   {
    "duration": 62,
    "start_time": "2022-08-05T14:30:04.150Z"
   },
   {
    "duration": 4,
    "start_time": "2022-08-05T14:30:04.780Z"
   },
   {
    "duration": 47286,
    "start_time": "2022-08-05T14:30:06.550Z"
   },
   {
    "duration": 11,
    "start_time": "2022-08-05T14:30:53.839Z"
   },
   {
    "duration": 83,
    "start_time": "2022-08-05T14:34:31.491Z"
   },
   {
    "duration": 4344,
    "start_time": "2022-08-05T14:39:16.290Z"
   },
   {
    "duration": 400729,
    "start_time": "2022-08-05T14:40:02.892Z"
   },
   {
    "duration": 4,
    "start_time": "2022-08-05T14:47:07.850Z"
   },
   {
    "duration": 5,
    "start_time": "2022-08-05T14:47:18.402Z"
   },
   {
    "duration": 1423,
    "start_time": "2022-08-05T14:47:35.530Z"
   },
   {
    "duration": 733251,
    "start_time": "2022-08-05T14:55:02.865Z"
   },
   {
    "duration": 4,
    "start_time": "2022-08-05T15:08:12.600Z"
   },
   {
    "duration": 2524,
    "start_time": "2022-08-05T15:09:15.515Z"
   },
   {
    "duration": 4211,
    "start_time": "2022-08-05T15:11:53.661Z"
   },
   {
    "duration": 3862225,
    "start_time": "2022-08-05T15:15:17.193Z"
   },
   {
    "duration": 415630,
    "start_time": "2022-08-05T16:20:30.040Z"
   },
   {
    "duration": 45264,
    "start_time": "2022-08-05T16:28:08.081Z"
   },
   {
    "duration": 10,
    "start_time": "2022-08-05T16:28:53.347Z"
   },
   {
    "duration": 13,
    "start_time": "2022-08-05T16:30:01.569Z"
   },
   {
    "duration": 5,
    "start_time": "2022-08-05T16:30:09.501Z"
   },
   {
    "duration": 12476,
    "start_time": "2022-08-05T16:30:13.481Z"
   },
   {
    "duration": 29017,
    "start_time": "2022-08-05T16:30:53.550Z"
   },
   {
    "duration": 1151,
    "start_time": "2022-08-05T16:36:51.683Z"
   },
   {
    "duration": 13,
    "start_time": "2022-08-05T16:36:52.836Z"
   },
   {
    "duration": 235,
    "start_time": "2022-08-05T16:36:52.850Z"
   },
   {
    "duration": 90,
    "start_time": "2022-08-05T16:36:53.087Z"
   },
   {
    "duration": 43,
    "start_time": "2022-08-05T16:36:53.179Z"
   },
   {
    "duration": 46,
    "start_time": "2022-08-05T16:36:53.225Z"
   },
   {
    "duration": 28,
    "start_time": "2022-08-05T16:36:53.273Z"
   },
   {
    "duration": 47,
    "start_time": "2022-08-05T16:36:53.378Z"
   },
   {
    "duration": 111,
    "start_time": "2022-08-05T16:36:54.075Z"
   },
   {
    "duration": 33,
    "start_time": "2022-08-05T16:36:54.321Z"
   },
   {
    "duration": 4,
    "start_time": "2022-08-05T16:36:55.063Z"
   },
   {
    "duration": 49,
    "start_time": "2022-08-05T16:36:55.294Z"
   },
   {
    "duration": 87,
    "start_time": "2022-08-05T16:37:15.833Z"
   },
   {
    "duration": 38,
    "start_time": "2022-08-05T16:37:16.364Z"
   },
   {
    "duration": 47,
    "start_time": "2022-08-05T16:37:16.622Z"
   },
   {
    "duration": 30,
    "start_time": "2022-08-05T16:37:16.844Z"
   },
   {
    "duration": 38,
    "start_time": "2022-08-05T16:37:17.063Z"
   },
   {
    "duration": 372,
    "start_time": "2022-08-05T16:37:17.722Z"
   },
   {
    "duration": 11,
    "start_time": "2022-08-05T16:37:18.096Z"
   },
   {
    "duration": 5,
    "start_time": "2022-08-05T16:37:18.621Z"
   },
   {
    "duration": 45,
    "start_time": "2022-08-05T16:37:18.850Z"
   },
   {
    "duration": 4,
    "start_time": "2022-08-05T16:38:19.626Z"
   },
   {
    "duration": 61,
    "start_time": "2022-08-05T16:38:20.726Z"
   },
   {
    "duration": 20,
    "start_time": "2022-08-05T16:38:23.953Z"
   },
   {
    "duration": 5,
    "start_time": "2022-08-05T16:38:30.603Z"
   },
   {
    "duration": 4,
    "start_time": "2022-08-05T16:38:36.974Z"
   },
   {
    "duration": 19,
    "start_time": "2022-08-05T16:38:37.227Z"
   },
   {
    "duration": 915,
    "start_time": "2022-08-05T16:39:02.864Z"
   },
   {
    "duration": 48,
    "start_time": "2022-08-05T16:39:06.124Z"
   },
   {
    "duration": 19,
    "start_time": "2022-08-05T16:39:06.922Z"
   },
   {
    "duration": 5,
    "start_time": "2022-08-05T16:39:08.180Z"
   },
   {
    "duration": 3,
    "start_time": "2022-08-05T16:39:09.393Z"
   },
   {
    "duration": 17,
    "start_time": "2022-08-05T16:39:10.331Z"
   },
   {
    "duration": 323,
    "start_time": "2022-08-05T16:39:11.773Z"
   },
   {
    "duration": 4,
    "start_time": "2022-08-05T16:39:26.190Z"
   },
   {
    "duration": 61,
    "start_time": "2022-08-05T16:39:30.630Z"
   },
   {
    "duration": 4,
    "start_time": "2022-08-05T16:39:30.921Z"
   },
   {
    "duration": 4,
    "start_time": "2022-08-05T16:39:31.653Z"
   },
   {
    "duration": 48995,
    "start_time": "2022-08-05T16:39:31.965Z"
   },
   {
    "duration": 10,
    "start_time": "2022-08-05T16:40:20.962Z"
   },
   {
    "duration": 4704,
    "start_time": "2022-08-05T16:40:57.022Z"
   },
   {
    "duration": 6,
    "start_time": "2022-08-05T16:44:17.625Z"
   },
   {
    "duration": 4,
    "start_time": "2022-08-05T16:44:19.237Z"
   },
   {
    "duration": 21,
    "start_time": "2022-08-05T16:44:19.527Z"
   },
   {
    "duration": 43,
    "start_time": "2022-08-05T16:44:40.137Z"
   },
   {
    "duration": 18,
    "start_time": "2022-08-05T16:44:40.858Z"
   },
   {
    "duration": 6,
    "start_time": "2022-08-05T16:44:41.598Z"
   },
   {
    "duration": 4,
    "start_time": "2022-08-05T16:44:43.287Z"
   },
   {
    "duration": 314,
    "start_time": "2022-08-05T16:44:43.622Z"
   },
   {
    "duration": 6,
    "start_time": "2022-08-05T16:44:44.474Z"
   },
   {
    "duration": 4,
    "start_time": "2022-08-05T16:44:48.421Z"
   },
   {
    "duration": 5,
    "start_time": "2022-08-05T16:44:48.887Z"
   },
   {
    "duration": 6,
    "start_time": "2022-08-05T16:44:49.732Z"
   },
   {
    "duration": 47879,
    "start_time": "2022-08-05T16:44:51.378Z"
   },
   {
    "duration": 10,
    "start_time": "2022-08-05T16:45:39.258Z"
   },
   {
    "duration": 4459,
    "start_time": "2022-08-05T16:45:56.070Z"
   },
   {
    "duration": 9,
    "start_time": "2022-08-05T16:46:48.946Z"
   },
   {
    "duration": 5,
    "start_time": "2022-08-05T16:47:35.183Z"
   },
   {
    "duration": 828,
    "start_time": "2022-08-05T16:48:47.247Z"
   },
   {
    "duration": 17,
    "start_time": "2022-08-05T16:58:49.830Z"
   },
   {
    "duration": 71,
    "start_time": "2022-08-05T16:59:20.277Z"
   },
   {
    "duration": 4937,
    "start_time": "2022-08-05T17:01:36.826Z"
   },
   {
    "duration": 6,
    "start_time": "2022-08-05T17:02:00.626Z"
   },
   {
    "duration": 5083,
    "start_time": "2022-08-05T17:02:14.386Z"
   },
   {
    "duration": 6,
    "start_time": "2022-08-05T17:02:25.095Z"
   },
   {
    "duration": 6552,
    "start_time": "2022-08-05T17:05:23.726Z"
   },
   {
    "duration": 0,
    "start_time": "2022-08-05T17:07:49.088Z"
   },
   {
    "duration": 279163,
    "start_time": "2022-08-05T17:07:55.326Z"
   },
   {
    "duration": 4,
    "start_time": "2022-08-05T17:12:53.826Z"
   },
   {
    "duration": 26350,
    "start_time": "2022-08-05T17:14:04.887Z"
   },
   {
    "duration": 745,
    "start_time": "2022-08-05T17:16:17.898Z"
   },
   {
    "duration": 734,
    "start_time": "2022-08-05T17:16:25.108Z"
   },
   {
    "duration": 3367,
    "start_time": "2022-08-05T17:19:04.318Z"
   },
   {
    "duration": 3338155,
    "start_time": "2022-08-05T17:23:16.381Z"
   },
   {
    "duration": 4,
    "start_time": "2022-08-05T18:50:14.486Z"
   },
   {
    "duration": 3881,
    "start_time": "2022-08-05T18:50:33.777Z"
   },
   {
    "duration": 7418,
    "start_time": "2022-08-05T18:50:52.146Z"
   },
   {
    "duration": 834,
    "start_time": "2022-08-05T18:52:36.931Z"
   },
   {
    "duration": 8,
    "start_time": "2022-08-05T18:52:54.047Z"
   },
   {
    "duration": 10679,
    "start_time": "2022-08-05T18:54:09.763Z"
   },
   {
    "duration": 3972,
    "start_time": "2022-08-05T18:54:35.378Z"
   },
   {
    "duration": 3,
    "start_time": "2022-08-05T19:00:47.598Z"
   },
   {
    "duration": 16,
    "start_time": "2022-08-05T19:00:47.714Z"
   },
   {
    "duration": 3,
    "start_time": "2022-08-05T19:00:48.089Z"
   },
   {
    "duration": 79,
    "start_time": "2022-08-05T19:00:48.327Z"
   },
   {
    "duration": 37,
    "start_time": "2022-08-05T19:00:48.562Z"
   },
   {
    "duration": 47,
    "start_time": "2022-08-05T19:00:48.776Z"
   },
   {
    "duration": 29,
    "start_time": "2022-08-05T19:00:49.017Z"
   },
   {
    "duration": 36,
    "start_time": "2022-08-05T19:00:49.275Z"
   },
   {
    "duration": 298,
    "start_time": "2022-08-05T19:00:49.965Z"
   },
   {
    "duration": 10,
    "start_time": "2022-08-05T19:00:50.265Z"
   },
   {
    "duration": 4,
    "start_time": "2022-08-05T19:00:51.418Z"
   },
   {
    "duration": 43,
    "start_time": "2022-08-05T19:00:51.963Z"
   },
   {
    "duration": 24,
    "start_time": "2022-08-05T19:01:00.657Z"
   },
   {
    "duration": 6,
    "start_time": "2022-08-05T19:01:08.841Z"
   },
   {
    "duration": 4,
    "start_time": "2022-08-05T19:02:22.915Z"
   },
   {
    "duration": 316,
    "start_time": "2022-08-05T19:02:23.664Z"
   },
   {
    "duration": 5,
    "start_time": "2022-08-05T19:02:36.774Z"
   },
   {
    "duration": 326,
    "start_time": "2022-08-05T19:02:37.232Z"
   },
   {
    "duration": 5,
    "start_time": "2022-08-05T19:02:55.599Z"
   },
   {
    "duration": 308,
    "start_time": "2022-08-05T19:02:56.135Z"
   },
   {
    "duration": 4,
    "start_time": "2022-08-05T19:03:10.652Z"
   },
   {
    "duration": 295,
    "start_time": "2022-08-05T19:03:12.482Z"
   },
   {
    "duration": 6,
    "start_time": "2022-08-05T19:03:26.173Z"
   },
   {
    "duration": 333,
    "start_time": "2022-08-05T19:03:28.034Z"
   },
   {
    "duration": 6,
    "start_time": "2022-08-05T19:03:36.195Z"
   },
   {
    "duration": 426,
    "start_time": "2022-08-05T19:03:36.826Z"
   },
   {
    "duration": 4,
    "start_time": "2022-08-05T19:04:04.483Z"
   },
   {
    "duration": 314,
    "start_time": "2022-08-05T19:04:05.106Z"
   },
   {
    "duration": 5,
    "start_time": "2022-08-05T19:04:26.677Z"
   },
   {
    "duration": 354,
    "start_time": "2022-08-05T19:04:27.220Z"
   },
   {
    "duration": 4,
    "start_time": "2022-08-05T19:04:43.803Z"
   },
   {
    "duration": 303,
    "start_time": "2022-08-05T19:04:44.363Z"
   },
   {
    "duration": 4,
    "start_time": "2022-08-05T19:04:54.728Z"
   },
   {
    "duration": 303,
    "start_time": "2022-08-05T19:04:55.065Z"
   },
   {
    "duration": 5,
    "start_time": "2022-08-05T19:05:10.915Z"
   },
   {
    "duration": 321,
    "start_time": "2022-08-05T19:05:11.156Z"
   },
   {
    "duration": 4,
    "start_time": "2022-08-05T19:05:20.162Z"
   },
   {
    "duration": 299,
    "start_time": "2022-08-05T19:05:20.410Z"
   },
   {
    "duration": 7,
    "start_time": "2022-08-05T19:05:37.676Z"
   },
   {
    "duration": 11,
    "start_time": "2022-08-05T19:05:39.555Z"
   },
   {
    "duration": 4,
    "start_time": "2022-08-05T19:06:28.403Z"
   },
   {
    "duration": 4,
    "start_time": "2022-08-05T19:06:32.586Z"
   },
   {
    "duration": 5,
    "start_time": "2022-08-05T19:06:32.826Z"
   },
   {
    "duration": 47195,
    "start_time": "2022-08-05T19:06:35.993Z"
   },
   {
    "duration": 10,
    "start_time": "2022-08-05T19:07:23.190Z"
   },
   {
    "duration": 3948,
    "start_time": "2022-08-05T19:07:41.097Z"
   },
   {
    "duration": 5,
    "start_time": "2022-08-05T19:08:17.163Z"
   },
   {
    "duration": 335,
    "start_time": "2022-08-05T19:08:17.795Z"
   },
   {
    "duration": 4,
    "start_time": "2022-08-05T19:08:32.364Z"
   },
   {
    "duration": 319,
    "start_time": "2022-08-05T19:08:33.066Z"
   },
   {
    "duration": 6,
    "start_time": "2022-08-05T19:08:37.476Z"
   },
   {
    "duration": 12,
    "start_time": "2022-08-05T19:08:37.764Z"
   },
   {
    "duration": 4043,
    "start_time": "2022-08-05T19:08:51.078Z"
   },
   {
    "duration": 11,
    "start_time": "2022-08-05T19:09:27.937Z"
   },
   {
    "duration": 4,
    "start_time": "2022-08-05T19:10:43.946Z"
   },
   {
    "duration": 4,
    "start_time": "2022-08-05T19:11:41.397Z"
   },
   {
    "duration": 11,
    "start_time": "2022-08-05T19:12:09.959Z"
   },
   {
    "duration": 4,
    "start_time": "2022-08-05T19:13:47.663Z"
   },
   {
    "duration": 42,
    "start_time": "2022-08-05T19:13:48.353Z"
   },
   {
    "duration": 20,
    "start_time": "2022-08-05T19:13:50.474Z"
   },
   {
    "duration": 6,
    "start_time": "2022-08-05T19:13:55.072Z"
   },
   {
    "duration": 4,
    "start_time": "2022-08-05T19:13:57.750Z"
   },
   {
    "duration": 312,
    "start_time": "2022-08-05T19:13:58.600Z"
   },
   {
    "duration": 7,
    "start_time": "2022-08-05T19:14:04.510Z"
   },
   {
    "duration": 13,
    "start_time": "2022-08-05T19:14:05.062Z"
   },
   {
    "duration": 4069,
    "start_time": "2022-08-05T19:14:27.682Z"
   },
   {
    "duration": 4111,
    "start_time": "2022-08-05T19:14:34.994Z"
   },
   {
    "duration": 5,
    "start_time": "2022-08-05T19:15:04.313Z"
   },
   {
    "duration": 11,
    "start_time": "2022-08-05T19:15:12.680Z"
   },
   {
    "duration": 4,
    "start_time": "2022-08-05T19:18:05.303Z"
   },
   {
    "duration": 342,
    "start_time": "2022-08-05T19:18:05.800Z"
   },
   {
    "duration": 6,
    "start_time": "2022-08-05T19:18:15.815Z"
   },
   {
    "duration": 311,
    "start_time": "2022-08-05T19:18:16.043Z"
   },
   {
    "duration": 4,
    "start_time": "2022-08-05T19:18:21.869Z"
   },
   {
    "duration": 296,
    "start_time": "2022-08-05T19:18:22.113Z"
   },
   {
    "duration": 5,
    "start_time": "2022-08-05T19:18:22.411Z"
   },
   {
    "duration": 3,
    "start_time": "2022-08-05T19:18:28.976Z"
   },
   {
    "duration": 292,
    "start_time": "2022-08-05T19:18:29.181Z"
   },
   {
    "duration": 4,
    "start_time": "2022-08-05T19:18:42.267Z"
   },
   {
    "duration": 292,
    "start_time": "2022-08-05T19:18:42.520Z"
   },
   {
    "duration": 4,
    "start_time": "2022-08-05T19:18:47.571Z"
   },
   {
    "duration": 303,
    "start_time": "2022-08-05T19:18:47.833Z"
   },
   {
    "duration": 326,
    "start_time": "2022-08-05T19:19:00.541Z"
   },
   {
    "duration": 5,
    "start_time": "2022-08-05T19:19:00.869Z"
   },
   {
    "duration": 12,
    "start_time": "2022-08-05T19:19:02.262Z"
   },
   {
    "duration": 4621,
    "start_time": "2022-08-05T19:19:14.362Z"
   },
   {
    "duration": 7,
    "start_time": "2022-08-05T19:21:47.124Z"
   },
   {
    "duration": 300,
    "start_time": "2022-08-05T19:21:47.624Z"
   },
   {
    "duration": 4,
    "start_time": "2022-08-05T19:22:09.971Z"
   },
   {
    "duration": 288,
    "start_time": "2022-08-05T19:22:10.503Z"
   },
   {
    "duration": 4,
    "start_time": "2022-08-05T19:22:26.646Z"
   },
   {
    "duration": 326,
    "start_time": "2022-08-05T19:22:27.286Z"
   },
   {
    "duration": 4,
    "start_time": "2022-08-05T19:23:24.750Z"
   },
   {
    "duration": 419,
    "start_time": "2022-08-05T19:23:25.071Z"
   },
   {
    "duration": 4,
    "start_time": "2022-08-05T19:23:34.975Z"
   },
   {
    "duration": 326,
    "start_time": "2022-08-05T19:23:35.646Z"
   },
   {
    "duration": 5,
    "start_time": "2022-08-05T19:24:14.616Z"
   },
   {
    "duration": 320,
    "start_time": "2022-08-05T19:24:15.104Z"
   },
   {
    "duration": 4,
    "start_time": "2022-08-05T19:24:29.462Z"
   },
   {
    "duration": 315,
    "start_time": "2022-08-05T19:24:30.014Z"
   },
   {
    "duration": 5,
    "start_time": "2022-08-05T19:24:35.999Z"
   },
   {
    "duration": 296,
    "start_time": "2022-08-05T19:24:36.247Z"
   },
   {
    "duration": 5,
    "start_time": "2022-08-05T19:25:04.899Z"
   },
   {
    "duration": 310,
    "start_time": "2022-08-05T19:25:05.206Z"
   },
   {
    "duration": 5,
    "start_time": "2022-08-05T19:25:30.395Z"
   },
   {
    "duration": 294,
    "start_time": "2022-08-05T19:25:30.695Z"
   },
   {
    "duration": 7,
    "start_time": "2022-08-05T19:25:49.205Z"
   },
   {
    "duration": 333,
    "start_time": "2022-08-05T19:25:49.457Z"
   },
   {
    "duration": 5,
    "start_time": "2022-08-05T19:26:15.746Z"
   },
   {
    "duration": 318,
    "start_time": "2022-08-05T19:26:15.978Z"
   },
   {
    "duration": 4,
    "start_time": "2022-08-05T19:27:02.454Z"
   },
   {
    "duration": 15,
    "start_time": "2022-08-05T19:27:02.808Z"
   },
   {
    "duration": 5,
    "start_time": "2022-08-05T19:27:12.585Z"
   },
   {
    "duration": 322,
    "start_time": "2022-08-05T19:27:13.078Z"
   },
   {
    "duration": 5,
    "start_time": "2022-08-05T19:27:20.528Z"
   },
   {
    "duration": 294,
    "start_time": "2022-08-05T19:27:20.797Z"
   },
   {
    "duration": 4,
    "start_time": "2022-08-05T19:27:26.800Z"
   },
   {
    "duration": 472,
    "start_time": "2022-08-05T19:27:27.065Z"
   },
   {
    "duration": 6,
    "start_time": "2022-08-05T19:27:34.419Z"
   },
   {
    "duration": 293,
    "start_time": "2022-08-05T19:27:34.854Z"
   },
   {
    "duration": 5,
    "start_time": "2022-08-05T19:28:24.962Z"
   },
   {
    "duration": 299,
    "start_time": "2022-08-05T19:28:25.329Z"
   },
   {
    "duration": 6,
    "start_time": "2022-08-05T19:28:36.590Z"
   },
   {
    "duration": 372,
    "start_time": "2022-08-05T19:28:37.099Z"
   },
   {
    "duration": 5,
    "start_time": "2022-08-05T19:28:46.280Z"
   },
   {
    "duration": 306,
    "start_time": "2022-08-05T19:28:46.538Z"
   },
   {
    "duration": 6,
    "start_time": "2022-08-05T19:28:51.864Z"
   },
   {
    "duration": 12,
    "start_time": "2022-08-05T19:28:52.488Z"
   },
   {
    "duration": 4111,
    "start_time": "2022-08-05T19:29:10.618Z"
   },
   {
    "duration": 8,
    "start_time": "2022-08-05T19:29:40.289Z"
   },
   {
    "duration": 298,
    "start_time": "2022-08-05T19:29:40.558Z"
   },
   {
    "duration": 6,
    "start_time": "2022-08-05T19:29:47.001Z"
   },
   {
    "duration": 334,
    "start_time": "2022-08-05T19:29:47.290Z"
   },
   {
    "duration": 6,
    "start_time": "2022-08-05T19:29:56.097Z"
   },
   {
    "duration": 312,
    "start_time": "2022-08-05T19:29:56.368Z"
   },
   {
    "duration": 5,
    "start_time": "2022-08-05T19:30:00.547Z"
   },
   {
    "duration": 325,
    "start_time": "2022-08-05T19:30:00.769Z"
   },
   {
    "duration": 8,
    "start_time": "2022-08-05T19:30:06.029Z"
   },
   {
    "duration": 326,
    "start_time": "2022-08-05T19:30:06.288Z"
   },
   {
    "duration": 490,
    "start_time": "2022-08-05T19:30:20.508Z"
   },
   {
    "duration": 7,
    "start_time": "2022-08-05T19:30:21.128Z"
   },
   {
    "duration": 11,
    "start_time": "2022-08-05T19:30:22.688Z"
   },
   {
    "duration": 4536,
    "start_time": "2022-08-05T19:30:36.108Z"
   },
   {
    "duration": 5,
    "start_time": "2022-08-05T19:31:21.086Z"
   },
   {
    "duration": 336,
    "start_time": "2022-08-05T19:31:21.367Z"
   },
   {
    "duration": 5,
    "start_time": "2022-08-05T19:31:47.538Z"
   },
   {
    "duration": 12,
    "start_time": "2022-08-05T19:31:48.327Z"
   },
   {
    "duration": 4767,
    "start_time": "2022-08-05T19:31:58.766Z"
   },
   {
    "duration": 4264,
    "start_time": "2022-08-05T19:32:13.031Z"
   },
   {
    "duration": 6559,
    "start_time": "2022-08-05T19:34:02.508Z"
   },
   {
    "duration": 1272,
    "start_time": "2022-08-06T00:38:25.571Z"
   },
   {
    "duration": 16,
    "start_time": "2022-08-06T00:38:26.844Z"
   },
   {
    "duration": 263,
    "start_time": "2022-08-06T00:38:26.862Z"
   },
   {
    "duration": 214,
    "start_time": "2022-08-06T00:38:27.127Z"
   },
   {
    "duration": 111,
    "start_time": "2022-08-06T00:38:27.414Z"
   },
   {
    "duration": 71,
    "start_time": "2022-08-06T00:38:27.933Z"
   },
   {
    "duration": 92,
    "start_time": "2022-08-06T00:38:28.354Z"
   },
   {
    "duration": 35,
    "start_time": "2022-08-06T00:38:28.683Z"
   },
   {
    "duration": 328,
    "start_time": "2022-08-06T00:38:29.633Z"
   },
   {
    "duration": 10,
    "start_time": "2022-08-06T00:38:29.963Z"
   },
   {
    "duration": 4,
    "start_time": "2022-08-06T00:38:30.874Z"
   },
   {
    "duration": 42,
    "start_time": "2022-08-06T00:38:31.173Z"
   },
   {
    "duration": 12,
    "start_time": "2022-08-06T00:38:33.344Z"
   },
   {
    "duration": 30,
    "start_time": "2022-08-06T00:38:34.664Z"
   },
   {
    "duration": 6,
    "start_time": "2022-08-06T00:38:49.633Z"
   },
   {
    "duration": 5,
    "start_time": "2022-08-06T00:38:53.243Z"
   },
   {
    "duration": 302,
    "start_time": "2022-08-06T00:38:53.685Z"
   },
   {
    "duration": 7,
    "start_time": "2022-08-06T00:38:58.922Z"
   },
   {
    "duration": 14,
    "start_time": "2022-08-06T00:39:02.765Z"
   },
   {
    "duration": 63,
    "start_time": "2022-08-06T00:39:17.623Z"
   },
   {
    "duration": 6,
    "start_time": "2022-08-06T00:39:17.924Z"
   },
   {
    "duration": 5,
    "start_time": "2022-08-06T00:39:18.827Z"
   },
   {
    "duration": 61849,
    "start_time": "2022-08-06T00:39:19.886Z"
   },
   {
    "duration": 10,
    "start_time": "2022-08-06T00:40:21.738Z"
   },
   {
    "duration": 883,
    "start_time": "2022-08-06T00:44:00.198Z"
   },
   {
    "duration": 4221,
    "start_time": "2022-08-06T00:44:01.082Z"
   },
   {
    "duration": 6183,
    "start_time": "2022-08-06T00:44:14.216Z"
   },
   {
    "duration": 5,
    "start_time": "2022-08-06T00:47:17.879Z"
   },
   {
    "duration": 12,
    "start_time": "2022-08-06T00:48:35.739Z"
   },
   {
    "duration": 4,
    "start_time": "2022-08-06T00:50:13.139Z"
   },
   {
    "duration": 42,
    "start_time": "2022-08-06T00:50:13.408Z"
   },
   {
    "duration": 12,
    "start_time": "2022-08-06T00:50:15.070Z"
   },
   {
    "duration": 27,
    "start_time": "2022-08-06T00:50:16.029Z"
   },
   {
    "duration": 6,
    "start_time": "2022-08-06T00:50:25.119Z"
   },
   {
    "duration": 6,
    "start_time": "2022-08-06T00:50:26.039Z"
   },
   {
    "duration": 309,
    "start_time": "2022-08-06T00:50:26.799Z"
   },
   {
    "duration": 5,
    "start_time": "2022-08-06T00:50:36.020Z"
   },
   {
    "duration": 14,
    "start_time": "2022-08-06T00:50:36.619Z"
   },
   {
    "duration": 4,
    "start_time": "2022-08-06T00:50:51.769Z"
   },
   {
    "duration": 4,
    "start_time": "2022-08-06T00:50:52.009Z"
   },
   {
    "duration": 4,
    "start_time": "2022-08-06T00:50:52.589Z"
   },
   {
    "duration": 62238,
    "start_time": "2022-08-06T00:50:53.397Z"
   },
   {
    "duration": 9,
    "start_time": "2022-08-06T00:51:55.637Z"
   },
   {
    "duration": 894,
    "start_time": "2022-08-06T00:51:55.647Z"
   },
   {
    "duration": 4682,
    "start_time": "2022-08-06T00:51:56.543Z"
   },
   {
    "duration": 4,
    "start_time": "2022-08-06T00:52:32.129Z"
   },
   {
    "duration": 41,
    "start_time": "2022-08-06T00:52:32.418Z"
   },
   {
    "duration": 13,
    "start_time": "2022-08-06T00:52:33.079Z"
   },
   {
    "duration": 39,
    "start_time": "2022-08-06T00:52:33.329Z"
   },
   {
    "duration": 6,
    "start_time": "2022-08-06T00:52:35.520Z"
   },
   {
    "duration": 6,
    "start_time": "2022-08-06T00:52:36.697Z"
   },
   {
    "duration": 321,
    "start_time": "2022-08-06T00:52:36.960Z"
   },
   {
    "duration": 6,
    "start_time": "2022-08-06T00:52:38.330Z"
   },
   {
    "duration": 14,
    "start_time": "2022-08-06T00:52:41.129Z"
   },
   {
    "duration": 905,
    "start_time": "2022-08-06T00:53:04.447Z"
   },
   {
    "duration": 4468,
    "start_time": "2022-08-06T00:53:10.439Z"
   },
   {
    "duration": 1286,
    "start_time": "2022-08-06T00:53:50.129Z"
   },
   {
    "duration": 28196,
    "start_time": "2022-08-06T01:04:31.421Z"
   },
   {
    "duration": 6780,
    "start_time": "2022-08-06T01:05:13.417Z"
   },
   {
    "duration": 6230,
    "start_time": "2022-08-06T01:06:16.897Z"
   },
   {
    "duration": 61113,
    "start_time": "2022-08-06T01:06:53.820Z"
   },
   {
    "duration": 6334,
    "start_time": "2022-08-06T01:08:21.415Z"
   },
   {
    "duration": 4,
    "start_time": "2022-08-06T01:17:50.665Z"
   },
   {
    "duration": 62235,
    "start_time": "2022-08-06T01:18:03.866Z"
   },
   {
    "duration": 12,
    "start_time": "2022-08-06T01:19:06.102Z"
   },
   {
    "duration": 5,
    "start_time": "2022-08-06T01:26:31.037Z"
   },
   {
    "duration": 4,
    "start_time": "2022-08-06T01:26:32.170Z"
   },
   {
    "duration": 5,
    "start_time": "2022-08-06T01:26:39.586Z"
   },
   {
    "duration": 4,
    "start_time": "2022-08-06T01:26:40.050Z"
   },
   {
    "duration": 82750,
    "start_time": "2022-08-06T01:26:41.316Z"
   },
   {
    "duration": 108,
    "start_time": "2022-08-06T01:28:04.068Z"
   },
   {
    "duration": 0,
    "start_time": "2022-08-06T01:28:04.178Z"
   },
   {
    "duration": 13,
    "start_time": "2022-08-06T01:29:00.278Z"
   },
   {
    "duration": 14,
    "start_time": "2022-08-06T01:29:10.010Z"
   },
   {
    "duration": 12,
    "start_time": "2022-08-06T01:29:31.240Z"
   },
   {
    "duration": 7,
    "start_time": "2022-08-06T01:32:03.538Z"
   },
   {
    "duration": 897,
    "start_time": "2022-08-06T01:32:32.220Z"
   },
   {
    "duration": 57,
    "start_time": "2022-08-06T01:41:56.317Z"
   },
   {
    "duration": 54,
    "start_time": "2022-08-06T01:42:58.227Z"
   },
   {
    "duration": 52,
    "start_time": "2022-08-06T01:43:09.290Z"
   },
   {
    "duration": 59,
    "start_time": "2022-08-06T01:46:57.402Z"
   },
   {
    "duration": 69,
    "start_time": "2022-08-06T01:47:09.319Z"
   },
   {
    "duration": 31313,
    "start_time": "2022-08-06T01:47:13.577Z"
   },
   {
    "duration": 4,
    "start_time": "2022-08-06T01:48:20.788Z"
   },
   {
    "duration": 9,
    "start_time": "2022-08-06T01:49:14.208Z"
   },
   {
    "duration": 4,
    "start_time": "2022-08-06T01:49:25.881Z"
   },
   {
    "duration": 60,
    "start_time": "2022-08-06T01:51:47.927Z"
   },
   {
    "duration": 191,
    "start_time": "2022-08-06T01:52:07.230Z"
   },
   {
    "duration": 7955,
    "start_time": "2022-08-06T01:52:51.957Z"
   },
   {
    "duration": 5,
    "start_time": "2022-08-06T01:53:05.578Z"
   },
   {
    "duration": 8,
    "start_time": "2022-08-06T01:53:23.860Z"
   },
   {
    "duration": 23361,
    "start_time": "2022-08-06T01:54:22.836Z"
   },
   {
    "duration": 3,
    "start_time": "2022-08-06T01:54:49.628Z"
   },
   {
    "duration": 8144,
    "start_time": "2022-08-06T01:57:10.528Z"
   },
   {
    "duration": 23988,
    "start_time": "2022-08-06T01:57:41.338Z"
   },
   {
    "duration": 4,
    "start_time": "2022-08-06T01:58:07.665Z"
   },
   {
    "duration": 31861,
    "start_time": "2022-08-06T01:58:37.638Z"
   },
   {
    "duration": 4,
    "start_time": "2022-08-06T01:59:19.390Z"
   },
   {
    "duration": 16824,
    "start_time": "2022-08-06T01:59:39.779Z"
   },
   {
    "duration": 4,
    "start_time": "2022-08-06T01:59:56.605Z"
   },
   {
    "duration": 4,
    "start_time": "2022-08-06T01:59:58.455Z"
   },
   {
    "duration": 10932,
    "start_time": "2022-08-06T02:04:16.937Z"
   },
   {
    "duration": 4,
    "start_time": "2022-08-06T02:04:35.248Z"
   },
   {
    "duration": 13274,
    "start_time": "2022-08-06T02:05:04.479Z"
   },
   {
    "duration": 3,
    "start_time": "2022-08-06T02:05:28.568Z"
   },
   {
    "duration": 16382,
    "start_time": "2022-08-06T02:10:39.175Z"
   },
   {
    "duration": 4,
    "start_time": "2022-08-06T02:10:58.407Z"
   },
   {
    "duration": 16529,
    "start_time": "2022-08-06T02:13:34.356Z"
   },
   {
    "duration": 4,
    "start_time": "2022-08-06T02:13:53.067Z"
   },
   {
    "duration": 9730,
    "start_time": "2022-08-06T02:18:42.167Z"
   },
   {
    "duration": 3,
    "start_time": "2022-08-06T02:18:55.375Z"
   },
   {
    "duration": 16003,
    "start_time": "2022-08-06T02:27:53.346Z"
   },
   {
    "duration": 4,
    "start_time": "2022-08-06T02:28:11.905Z"
   },
   {
    "duration": 10373,
    "start_time": "2022-08-06T02:30:16.554Z"
   },
   {
    "duration": 4,
    "start_time": "2022-08-06T02:30:28.845Z"
   },
   {
    "duration": 21672,
    "start_time": "2022-08-06T02:33:16.524Z"
   },
   {
    "duration": 48912,
    "start_time": "2022-08-06T02:33:48.514Z"
   },
   {
    "duration": 4,
    "start_time": "2022-08-06T02:34:54.136Z"
   },
   {
    "duration": 47394,
    "start_time": "2022-08-06T02:35:30.579Z"
   },
   {
    "duration": 4,
    "start_time": "2022-08-06T02:36:20.109Z"
   },
   {
    "duration": 24841,
    "start_time": "2022-08-06T02:37:55.987Z"
   },
   {
    "duration": 4,
    "start_time": "2022-08-06T02:38:22.896Z"
   },
   {
    "duration": 24523,
    "start_time": "2022-08-06T02:38:34.475Z"
   },
   {
    "duration": 5,
    "start_time": "2022-08-06T02:39:03.129Z"
   },
   {
    "duration": 24667,
    "start_time": "2022-08-06T02:39:15.857Z"
   },
   {
    "duration": 24729,
    "start_time": "2022-08-06T02:39:57.326Z"
   },
   {
    "duration": 4,
    "start_time": "2022-08-06T02:40:24.646Z"
   },
   {
    "duration": 977,
    "start_time": "2022-08-06T02:41:20.425Z"
   },
   {
    "duration": 1011,
    "start_time": "2022-08-06T02:42:02.422Z"
   },
   {
    "duration": 48,
    "start_time": "2022-08-06T02:42:38.517Z"
   },
   {
    "duration": 4977,
    "start_time": "2022-08-06T02:42:43.981Z"
   },
   {
    "duration": 5393,
    "start_time": "2022-08-06T02:42:58.854Z"
   },
   {
    "duration": 946,
    "start_time": "2022-08-06T02:43:42.586Z"
   },
   {
    "duration": 3860,
    "start_time": "2022-08-06T02:44:07.750Z"
   },
   {
    "duration": 3905,
    "start_time": "2022-08-06T02:44:25.616Z"
   },
   {
    "duration": 5187,
    "start_time": "2022-08-06T02:44:59.152Z"
   },
   {
    "duration": 2441,
    "start_time": "2022-08-06T02:45:36.602Z"
   },
   {
    "duration": 4126,
    "start_time": "2022-08-06T02:45:55.534Z"
   },
   {
    "duration": 590,
    "start_time": "2022-08-06T02:47:18.738Z"
   },
   {
    "duration": 1003,
    "start_time": "2022-08-06T02:47:39.665Z"
   },
   {
    "duration": 973,
    "start_time": "2022-08-06T02:47:49.857Z"
   },
   {
    "duration": 606,
    "start_time": "2022-08-06T02:48:05.984Z"
   },
   {
    "duration": 514,
    "start_time": "2022-08-06T02:48:12.306Z"
   },
   {
    "duration": 510,
    "start_time": "2022-08-06T02:48:54.978Z"
   },
   {
    "duration": 532,
    "start_time": "2022-08-06T02:49:05.365Z"
   },
   {
    "duration": 32,
    "start_time": "2022-08-06T02:51:58.268Z"
   },
   {
    "duration": 27,
    "start_time": "2022-08-06T02:52:10.092Z"
   },
   {
    "duration": 33,
    "start_time": "2022-08-06T02:52:23.847Z"
   },
   {
    "duration": 30,
    "start_time": "2022-08-06T02:52:49.903Z"
   },
   {
    "duration": 35484,
    "start_time": "2022-08-06T02:53:02.484Z"
   },
   {
    "duration": 4,
    "start_time": "2022-08-06T02:53:40.613Z"
   },
   {
    "duration": 62628,
    "start_time": "2022-08-06T02:55:48.406Z"
   },
   {
    "duration": 4,
    "start_time": "2022-08-06T02:56:54.355Z"
   },
   {
    "duration": 64266,
    "start_time": "2022-08-06T02:59:34.182Z"
   },
   {
    "duration": 4,
    "start_time": "2022-08-06T03:02:15.012Z"
   },
   {
    "duration": 811,
    "start_time": "2022-08-06T03:03:03.822Z"
   },
   {
    "duration": 95609,
    "start_time": "2022-08-06T03:04:07.911Z"
   },
   {
    "duration": 4,
    "start_time": "2022-08-06T03:05:50.433Z"
   },
   {
    "duration": 1685,
    "start_time": "2022-08-06T03:06:37.024Z"
   },
   {
    "duration": 851,
    "start_time": "2022-08-06T03:06:44.825Z"
   },
   {
    "duration": 65667,
    "start_time": "2022-08-06T03:08:10.329Z"
   },
   {
    "duration": 4,
    "start_time": "2022-08-06T03:11:54.805Z"
   },
   {
    "duration": 800,
    "start_time": "2022-08-06T03:12:24.709Z"
   },
   {
    "duration": 27216,
    "start_time": "2022-08-06T03:16:21.363Z"
   },
   {
    "duration": 30136,
    "start_time": "2022-08-06T03:17:25.567Z"
   },
   {
    "duration": 3,
    "start_time": "2022-08-06T03:18:10.626Z"
   },
   {
    "duration": 62513,
    "start_time": "2022-08-06T03:18:11.047Z"
   },
   {
    "duration": 1379,
    "start_time": "2022-08-06T03:19:13.562Z"
   },
   {
    "duration": 31165,
    "start_time": "2022-08-06T03:23:11.191Z"
   },
   {
    "duration": 455,
    "start_time": "2022-08-06T03:26:48.507Z"
   },
   {
    "duration": 1470,
    "start_time": "2022-08-06T03:26:52.994Z"
   },
   {
    "duration": 138,
    "start_time": "2022-08-06T03:27:06.496Z"
   },
   {
    "duration": 304,
    "start_time": "2022-08-06T03:27:12.966Z"
   },
   {
    "duration": 1468,
    "start_time": "2022-08-06T03:27:17.496Z"
   },
   {
    "duration": 283,
    "start_time": "2022-08-06T03:27:27.330Z"
   },
   {
    "duration": 1468,
    "start_time": "2022-08-06T03:27:32.165Z"
   },
   {
    "duration": 283,
    "start_time": "2022-08-06T03:27:37.886Z"
   },
   {
    "duration": 932,
    "start_time": "2022-08-06T03:27:56.383Z"
   },
   {
    "duration": 291,
    "start_time": "2022-08-06T03:28:01.816Z"
   },
   {
    "duration": 456,
    "start_time": "2022-08-06T03:28:05.725Z"
   },
   {
    "duration": 8615,
    "start_time": "2022-08-06T03:29:57.037Z"
   },
   {
    "duration": 9343,
    "start_time": "2022-08-06T03:30:12.816Z"
   },
   {
    "duration": 60970,
    "start_time": "2022-08-06T03:30:27.917Z"
   },
   {
    "duration": 8703,
    "start_time": "2022-08-06T03:31:34.179Z"
   },
   {
    "duration": 11694,
    "start_time": "2022-08-06T03:32:15.260Z"
   },
   {
    "duration": 25757,
    "start_time": "2022-08-06T03:32:32.456Z"
   },
   {
    "duration": 84350,
    "start_time": "2022-08-06T03:38:03.898Z"
   },
   {
    "duration": 114073,
    "start_time": "2022-08-06T03:40:03.859Z"
   },
   {
    "duration": 4266,
    "start_time": "2022-08-06T03:42:41.587Z"
   },
   {
    "duration": 6224,
    "start_time": "2022-08-06T03:43:05.337Z"
   },
   {
    "duration": 53,
    "start_time": "2022-08-06T03:46:53.702Z"
   },
   {
    "duration": 7406,
    "start_time": "2022-08-06T03:49:59.141Z"
   },
   {
    "duration": 1932,
    "start_time": "2022-08-06T03:50:43.542Z"
   },
   {
    "duration": 26958,
    "start_time": "2022-08-06T03:51:07.892Z"
   },
   {
    "duration": 2903460,
    "start_time": "2022-08-06T03:51:36.586Z"
   },
   {
    "duration": 10,
    "start_time": "2022-08-06T04:40:00.047Z"
   },
   {
    "duration": 20120,
    "start_time": "2022-08-06T04:42:08.982Z"
   },
   {
    "duration": 16463,
    "start_time": "2022-08-06T04:44:00.452Z"
   },
   {
    "duration": 2210,
    "start_time": "2022-08-06T04:44:16.917Z"
   },
   {
    "duration": 101,
    "start_time": "2022-08-06T04:45:44.660Z"
   },
   {
    "duration": 1821,
    "start_time": "2022-08-06T04:46:13.501Z"
   },
   {
    "duration": 7339,
    "start_time": "2022-08-06T04:47:04.572Z"
   },
   {
    "duration": 26295,
    "start_time": "2022-08-06T04:48:00.535Z"
   },
   {
    "duration": 7151,
    "start_time": "2022-08-06T04:49:07.710Z"
   },
   {
    "duration": 23073,
    "start_time": "2022-08-06T04:49:30.140Z"
   },
   {
    "duration": 15673,
    "start_time": "2022-08-06T04:54:02.457Z"
   },
   {
    "duration": 49,
    "start_time": "2022-08-06T06:17:54.203Z"
   },
   {
    "duration": 1124,
    "start_time": "2022-08-06T09:02:20.210Z"
   },
   {
    "duration": 25,
    "start_time": "2022-08-06T09:02:23.649Z"
   },
   {
    "duration": 289,
    "start_time": "2022-08-06T09:02:38.927Z"
   },
   {
    "duration": 174,
    "start_time": "2022-08-06T09:02:42.651Z"
   },
   {
    "duration": 140,
    "start_time": "2022-08-06T09:02:44.423Z"
   },
   {
    "duration": 102,
    "start_time": "2022-08-06T09:02:45.578Z"
   },
   {
    "duration": 100,
    "start_time": "2022-08-06T09:02:50.749Z"
   },
   {
    "duration": 37,
    "start_time": "2022-08-06T09:02:53.389Z"
   },
   {
    "duration": 390,
    "start_time": "2022-08-06T09:03:02.119Z"
   },
   {
    "duration": 12,
    "start_time": "2022-08-06T09:03:05.730Z"
   },
   {
    "duration": 4,
    "start_time": "2022-08-06T09:03:20.460Z"
   },
   {
    "duration": 43,
    "start_time": "2022-08-06T09:03:31.830Z"
   },
   {
    "duration": 12,
    "start_time": "2022-08-06T09:03:38.570Z"
   },
   {
    "duration": 1272,
    "start_time": "2022-08-06T09:04:03.316Z"
   },
   {
    "duration": 44,
    "start_time": "2022-08-06T09:04:09.839Z"
   },
   {
    "duration": 37,
    "start_time": "2022-08-06T09:04:11.810Z"
   },
   {
    "duration": 7,
    "start_time": "2022-08-06T09:05:02.961Z"
   },
   {
    "duration": 5,
    "start_time": "2022-08-06T09:05:23.311Z"
   },
   {
    "duration": 322,
    "start_time": "2022-08-06T09:05:23.890Z"
   },
   {
    "duration": 8,
    "start_time": "2022-08-06T09:06:00.060Z"
   },
   {
    "duration": 59,
    "start_time": "2022-08-06T09:07:10.050Z"
   },
   {
    "duration": 5,
    "start_time": "2022-08-06T09:07:11.296Z"
   },
   {
    "duration": 4,
    "start_time": "2022-08-06T09:07:11.738Z"
   },
   {
    "duration": 84364,
    "start_time": "2022-08-06T09:07:33.582Z"
   },
   {
    "duration": 62,
    "start_time": "2022-08-06T09:11:31.463Z"
   },
   {
    "duration": 1118,
    "start_time": "2022-08-06T09:13:44.614Z"
   },
   {
    "duration": 16,
    "start_time": "2022-08-06T09:13:45.735Z"
   },
   {
    "duration": 223,
    "start_time": "2022-08-06T09:13:45.752Z"
   },
   {
    "duration": 82,
    "start_time": "2022-08-06T09:13:45.978Z"
   },
   {
    "duration": 40,
    "start_time": "2022-08-06T09:13:46.062Z"
   },
   {
    "duration": 54,
    "start_time": "2022-08-06T09:13:46.104Z"
   },
   {
    "duration": 29,
    "start_time": "2022-08-06T09:13:46.160Z"
   },
   {
    "duration": 34,
    "start_time": "2022-08-06T09:13:46.190Z"
   },
   {
    "duration": 337,
    "start_time": "2022-08-06T09:13:46.344Z"
   },
   {
    "duration": 11,
    "start_time": "2022-08-06T09:13:46.683Z"
   },
   {
    "duration": 6,
    "start_time": "2022-08-06T09:13:47.111Z"
   },
   {
    "duration": 42,
    "start_time": "2022-08-06T09:13:47.264Z"
   },
   {
    "duration": 46,
    "start_time": "2022-08-06T09:13:48.444Z"
   },
   {
    "duration": 12,
    "start_time": "2022-08-06T09:13:48.855Z"
   },
   {
    "duration": 5,
    "start_time": "2022-08-06T09:13:49.784Z"
   },
   {
    "duration": 325,
    "start_time": "2022-08-06T09:13:49.984Z"
   },
   {
    "duration": 8,
    "start_time": "2022-08-06T09:13:50.311Z"
   },
   {
    "duration": 123,
    "start_time": "2022-08-06T09:13:51.894Z"
   },
   {
    "duration": 5,
    "start_time": "2022-08-06T09:13:52.092Z"
   },
   {
    "duration": 4,
    "start_time": "2022-08-06T09:13:53.224Z"
   },
   {
    "duration": 83967,
    "start_time": "2022-08-06T09:13:55.024Z"
   },
   {
    "duration": 3,
    "start_time": "2022-08-06T09:22:58.431Z"
   },
   {
    "duration": 82978,
    "start_time": "2022-08-06T09:22:58.674Z"
   },
   {
    "duration": 323233,
    "start_time": "2022-08-06T09:24:21.654Z"
   },
   {
    "duration": 43173,
    "start_time": "2022-08-06T09:30:04.864Z"
   },
   {
    "duration": 280868,
    "start_time": "2022-08-06T09:30:52.264Z"
   },
   {
    "duration": 284985,
    "start_time": "2022-08-06T09:35:33.133Z"
   },
   {
    "duration": 11431,
    "start_time": "2022-08-06T09:41:38.545Z"
   },
   {
    "duration": 4291,
    "start_time": "2022-08-06T09:42:24.535Z"
   },
   {
    "duration": 18101,
    "start_time": "2022-08-06T09:42:51.186Z"
   },
   {
    "duration": 81611,
    "start_time": "2022-08-06T09:43:34.086Z"
   },
   {
    "duration": 6199,
    "start_time": "2022-08-06T09:48:02.385Z"
   },
   {
    "duration": 11748,
    "start_time": "2022-08-06T09:48:14.429Z"
   },
   {
    "duration": 12002,
    "start_time": "2022-08-06T09:48:50.149Z"
   },
   {
    "duration": 21052,
    "start_time": "2022-08-06T09:52:41.689Z"
   },
   {
    "duration": 18202,
    "start_time": "2022-08-06T09:53:09.999Z"
   },
   {
    "duration": 830011,
    "start_time": "2022-08-06T09:53:30.619Z"
   },
   {
    "duration": 4,
    "start_time": "2022-08-06T10:08:37.602Z"
   },
   {
    "duration": 27576,
    "start_time": "2022-08-06T10:08:55.330Z"
   },
   {
    "duration": 2582551,
    "start_time": "2022-08-06T10:12:04.172Z"
   },
   {
    "duration": 3,
    "start_time": "2022-08-06T10:56:41.166Z"
   },
   {
    "duration": 17801,
    "start_time": "2022-08-06T10:56:56.377Z"
   },
   {
    "duration": 1218,
    "start_time": "2022-08-06T12:50:39.036Z"
   },
   {
    "duration": 19,
    "start_time": "2022-08-06T12:50:40.256Z"
   },
   {
    "duration": 279,
    "start_time": "2022-08-06T12:50:40.277Z"
   },
   {
    "duration": 189,
    "start_time": "2022-08-06T12:50:40.847Z"
   },
   {
    "duration": 134,
    "start_time": "2022-08-06T12:50:41.897Z"
   },
   {
    "duration": 70,
    "start_time": "2022-08-06T12:50:42.546Z"
   },
   {
    "duration": 102,
    "start_time": "2022-08-06T12:50:43.668Z"
   },
   {
    "duration": 37,
    "start_time": "2022-08-06T12:50:43.956Z"
   },
   {
    "duration": 359,
    "start_time": "2022-08-06T12:50:45.278Z"
   },
   {
    "duration": 11,
    "start_time": "2022-08-06T12:50:45.766Z"
   },
   {
    "duration": 4,
    "start_time": "2022-08-06T12:50:53.937Z"
   },
   {
    "duration": 47,
    "start_time": "2022-08-06T12:50:54.917Z"
   },
   {
    "duration": 37,
    "start_time": "2022-08-06T12:50:56.696Z"
   },
   {
    "duration": 128,
    "start_time": "2022-08-06T12:51:48.513Z"
   },
   {
    "duration": 9,
    "start_time": "2022-08-06T12:52:12.931Z"
   },
   {
    "duration": 5,
    "start_time": "2022-08-06T12:52:15.004Z"
   },
   {
    "duration": 305,
    "start_time": "2022-08-06T12:52:15.266Z"
   },
   {
    "duration": 7,
    "start_time": "2022-08-06T12:52:15.586Z"
   },
   {
    "duration": 59,
    "start_time": "2022-08-06T12:52:20.758Z"
   },
   {
    "duration": 5,
    "start_time": "2022-08-06T12:52:21.489Z"
   },
   {
    "duration": 5,
    "start_time": "2022-08-06T12:52:22.875Z"
   },
   {
    "duration": 85289,
    "start_time": "2022-08-06T12:52:24.268Z"
   },
   {
    "duration": 2,
    "start_time": "2022-08-06T12:53:49.560Z"
   },
   {
    "duration": 5,
    "start_time": "2022-08-06T12:56:06.614Z"
   },
   {
    "duration": 296,
    "start_time": "2022-08-06T12:56:06.877Z"
   },
   {
    "duration": 5,
    "start_time": "2022-08-06T12:56:17.967Z"
   },
   {
    "duration": 298,
    "start_time": "2022-08-06T12:56:18.317Z"
   },
   {
    "duration": 5,
    "start_time": "2022-08-06T12:56:24.977Z"
   },
   {
    "duration": 309,
    "start_time": "2022-08-06T12:56:25.298Z"
   },
   {
    "duration": 5,
    "start_time": "2022-08-06T12:56:37.188Z"
   },
   {
    "duration": 308,
    "start_time": "2022-08-06T12:56:37.427Z"
   },
   {
    "duration": 6,
    "start_time": "2022-08-06T12:57:41.997Z"
   },
   {
    "duration": 308,
    "start_time": "2022-08-06T12:57:42.277Z"
   },
   {
    "duration": 7,
    "start_time": "2022-08-06T12:58:04.659Z"
   },
   {
    "duration": 299,
    "start_time": "2022-08-06T12:58:04.907Z"
   },
   {
    "duration": 8,
    "start_time": "2022-08-06T12:58:15.447Z"
   },
   {
    "duration": 3,
    "start_time": "2022-08-06T12:58:18.268Z"
   },
   {
    "duration": 6,
    "start_time": "2022-08-06T12:58:18.507Z"
   },
   {
    "duration": 4,
    "start_time": "2022-08-06T12:58:19.258Z"
   },
   {
    "duration": 72606,
    "start_time": "2022-08-06T12:58:19.507Z"
   },
   {
    "duration": 4428,
    "start_time": "2022-08-06T13:01:11.027Z"
   },
   {
    "duration": 871,
    "start_time": "2022-08-06T13:01:39.947Z"
   },
   {
    "duration": 4251,
    "start_time": "2022-08-06T13:02:38.746Z"
   },
   {
    "duration": 827,
    "start_time": "2022-08-06T13:02:47.325Z"
   },
   {
    "duration": 1226,
    "start_time": "2022-08-06T13:03:02.866Z"
   },
   {
    "duration": 18930,
    "start_time": "2022-08-06T13:11:43.841Z"
   },
   {
    "duration": 265540,
    "start_time": "2022-08-06T13:12:09.509Z"
   },
   {
    "duration": 4385,
    "start_time": "2022-08-06T13:21:49.662Z"
   },
   {
    "duration": 6,
    "start_time": "2022-08-06T13:22:26.976Z"
   },
   {
    "duration": 3963,
    "start_time": "2022-08-06T13:26:19.376Z"
   },
   {
    "duration": 7,
    "start_time": "2022-08-06T13:26:29.013Z"
   },
   {
    "duration": 4229,
    "start_time": "2022-08-06T13:28:03.126Z"
   },
   {
    "duration": 4076,
    "start_time": "2022-08-06T13:30:29.915Z"
   },
   {
    "duration": 5,
    "start_time": "2022-08-06T13:30:43.736Z"
   },
   {
    "duration": 29,
    "start_time": "2022-08-06T13:32:51.927Z"
   },
   {
    "duration": 4045,
    "start_time": "2022-08-06T13:32:59.785Z"
   },
   {
    "duration": 4,
    "start_time": "2022-08-06T13:33:36.566Z"
   },
   {
    "duration": 66,
    "start_time": "2022-08-06T13:34:22.495Z"
   },
   {
    "duration": 4230,
    "start_time": "2022-08-06T13:36:31.435Z"
   },
   {
    "duration": 63,
    "start_time": "2022-08-06T13:41:01.724Z"
   },
   {
    "duration": 20300,
    "start_time": "2022-08-06T13:41:41.885Z"
   },
   {
    "duration": 3893,
    "start_time": "2022-08-06T13:46:20.134Z"
   },
   {
    "duration": 3854,
    "start_time": "2022-08-06T13:46:35.323Z"
   },
   {
    "duration": 3944,
    "start_time": "2022-08-06T13:47:24.703Z"
   },
   {
    "duration": 4049,
    "start_time": "2022-08-06T13:47:33.934Z"
   },
   {
    "duration": 3852,
    "start_time": "2022-08-06T13:47:42.134Z"
   },
   {
    "duration": 4081,
    "start_time": "2022-08-06T13:47:54.744Z"
   },
   {
    "duration": 4011,
    "start_time": "2022-08-06T13:48:04.463Z"
   },
   {
    "duration": 7756,
    "start_time": "2022-08-06T13:48:33.494Z"
   },
   {
    "duration": 7542,
    "start_time": "2022-08-06T13:48:50.134Z"
   },
   {
    "duration": 7594,
    "start_time": "2022-08-06T13:50:11.735Z"
   },
   {
    "duration": 45,
    "start_time": "2022-08-06T13:50:54.924Z"
   },
   {
    "duration": 15576,
    "start_time": "2022-08-06T13:50:59.593Z"
   },
   {
    "duration": 438,
    "start_time": "2022-08-06T13:53:46.043Z"
   },
   {
    "duration": 436,
    "start_time": "2022-08-06T13:54:01.382Z"
   },
   {
    "duration": 2740,
    "start_time": "2022-08-06T13:55:37.533Z"
   },
   {
    "duration": 434,
    "start_time": "2022-08-06T13:55:46.983Z"
   },
   {
    "duration": 422,
    "start_time": "2022-08-06T13:55:51.503Z"
   },
   {
    "duration": 2825,
    "start_time": "2022-08-06T13:55:57.483Z"
   },
   {
    "duration": 2304,
    "start_time": "2022-08-06T13:56:04.141Z"
   },
   {
    "duration": 4209,
    "start_time": "2022-08-06T13:56:09.984Z"
   },
   {
    "duration": 8,
    "start_time": "2022-08-06T13:56:28.842Z"
   },
   {
    "duration": 4109,
    "start_time": "2022-08-06T13:57:20.853Z"
   },
   {
    "duration": 9,
    "start_time": "2022-08-06T13:58:23.973Z"
   },
   {
    "duration": 9,
    "start_time": "2022-08-06T13:59:07.327Z"
   },
   {
    "duration": 3813,
    "start_time": "2022-08-06T13:59:19.400Z"
   },
   {
    "duration": 6,
    "start_time": "2022-08-06T14:00:23.769Z"
   },
   {
    "duration": 380,
    "start_time": "2022-08-06T14:00:24.029Z"
   },
   {
    "duration": 8,
    "start_time": "2022-08-06T14:01:16.739Z"
   },
   {
    "duration": 4103,
    "start_time": "2022-08-06T14:01:35.979Z"
   },
   {
    "duration": 9,
    "start_time": "2022-08-06T14:01:51.738Z"
   },
   {
    "duration": 5,
    "start_time": "2022-08-06T14:01:53.298Z"
   },
   {
    "duration": 25,
    "start_time": "2022-08-06T14:01:53.841Z"
   },
   {
    "duration": 9,
    "start_time": "2022-08-06T14:02:15.130Z"
   },
   {
    "duration": 5,
    "start_time": "2022-08-06T14:02:19.338Z"
   },
   {
    "duration": 5,
    "start_time": "2022-08-06T14:02:25.097Z"
   },
   {
    "duration": 295,
    "start_time": "2022-08-06T14:02:25.777Z"
   },
   {
    "duration": 11,
    "start_time": "2022-08-06T14:02:29.039Z"
   },
   {
    "duration": 4303,
    "start_time": "2022-08-06T14:02:45.258Z"
   },
   {
    "duration": 4102,
    "start_time": "2022-08-06T14:03:04.207Z"
   },
   {
    "duration": 5614,
    "start_time": "2022-08-06T14:03:47.998Z"
   },
   {
    "duration": 8830,
    "start_time": "2022-08-06T14:03:57.571Z"
   },
   {
    "duration": 3262,
    "start_time": "2022-08-06T14:04:10.928Z"
   },
   {
    "duration": 2652,
    "start_time": "2022-08-06T14:04:18.277Z"
   },
   {
    "duration": 4157,
    "start_time": "2022-08-06T14:04:25.251Z"
   },
   {
    "duration": 4002,
    "start_time": "2022-08-06T14:04:51.210Z"
   },
   {
    "duration": 4373,
    "start_time": "2022-08-06T14:06:00.253Z"
   },
   {
    "duration": 17610,
    "start_time": "2022-08-06T14:07:33.378Z"
   },
   {
    "duration": 7801,
    "start_time": "2022-08-06T14:07:58.516Z"
   },
   {
    "duration": 7654,
    "start_time": "2022-08-06T14:08:18.352Z"
   },
   {
    "duration": 7892,
    "start_time": "2022-08-06T14:08:54.838Z"
   },
   {
    "duration": 4290,
    "start_time": "2022-08-06T14:09:14.489Z"
   },
   {
    "duration": 4173,
    "start_time": "2022-08-06T14:09:25.596Z"
   },
   {
    "duration": 4160,
    "start_time": "2022-08-06T14:09:34.917Z"
   },
   {
    "duration": 4306,
    "start_time": "2022-08-06T14:09:44.451Z"
   },
   {
    "duration": 4082,
    "start_time": "2022-08-06T14:09:59.011Z"
   },
   {
    "duration": 4199,
    "start_time": "2022-08-06T14:10:10.765Z"
   },
   {
    "duration": 2350,
    "start_time": "2022-08-06T14:10:26.089Z"
   },
   {
    "duration": 2569,
    "start_time": "2022-08-06T14:10:33.769Z"
   },
   {
    "duration": 3074,
    "start_time": "2022-08-06T14:10:39.929Z"
   },
   {
    "duration": 3415,
    "start_time": "2022-08-06T14:10:45.939Z"
   },
   {
    "duration": 3664,
    "start_time": "2022-08-06T14:10:51.794Z"
   },
   {
    "duration": 4548,
    "start_time": "2022-08-06T14:11:01.949Z"
   },
   {
    "duration": 4831,
    "start_time": "2022-08-06T14:11:11.312Z"
   },
   {
    "duration": 5891,
    "start_time": "2022-08-06T14:11:24.169Z"
   },
   {
    "duration": 5992,
    "start_time": "2022-08-06T14:11:38.119Z"
   },
   {
    "duration": 5826,
    "start_time": "2022-08-06T14:11:47.480Z"
   },
   {
    "duration": 5958,
    "start_time": "2022-08-06T14:11:56.850Z"
   },
   {
    "duration": 792,
    "start_time": "2022-08-06T14:12:08.370Z"
   },
   {
    "duration": 4080,
    "start_time": "2022-08-06T14:12:11.760Z"
   },
   {
    "duration": 3994,
    "start_time": "2022-08-06T14:12:29.250Z"
   },
   {
    "duration": 4059,
    "start_time": "2022-08-06T14:12:44.711Z"
   },
   {
    "duration": 4024,
    "start_time": "2022-08-06T14:12:53.380Z"
   },
   {
    "duration": 4000,
    "start_time": "2022-08-06T14:13:05.400Z"
   },
   {
    "duration": 3963,
    "start_time": "2022-08-06T14:13:12.452Z"
   },
   {
    "duration": 3249,
    "start_time": "2022-08-06T14:13:26.021Z"
   },
   {
    "duration": 2697,
    "start_time": "2022-08-06T14:13:33.220Z"
   },
   {
    "duration": 5627,
    "start_time": "2022-08-06T14:13:39.290Z"
   },
   {
    "duration": 4031,
    "start_time": "2022-08-06T14:14:19.211Z"
   },
   {
    "duration": 4117,
    "start_time": "2022-08-06T14:14:27.421Z"
   },
   {
    "duration": 4256,
    "start_time": "2022-08-06T14:14:38.211Z"
   },
   {
    "duration": 4181,
    "start_time": "2022-08-06T14:14:48.451Z"
   },
   {
    "duration": 4287,
    "start_time": "2022-08-06T14:14:57.171Z"
   },
   {
    "duration": 4400,
    "start_time": "2022-08-06T14:15:09.381Z"
   },
   {
    "duration": 4121,
    "start_time": "2022-08-06T14:15:16.251Z"
   },
   {
    "duration": 4065,
    "start_time": "2022-08-06T14:15:36.291Z"
   },
   {
    "duration": 4513,
    "start_time": "2022-08-06T14:16:15.695Z"
   },
   {
    "duration": 4720,
    "start_time": "2022-08-06T14:16:24.293Z"
   },
   {
    "duration": 7868,
    "start_time": "2022-08-06T14:16:37.091Z"
   },
   {
    "duration": 68,
    "start_time": "2022-08-06T14:18:45.312Z"
   },
   {
    "duration": 7848,
    "start_time": "2022-08-06T14:18:59.483Z"
   },
   {
    "duration": 4208,
    "start_time": "2022-08-06T14:19:59.091Z"
   },
   {
    "duration": 452,
    "start_time": "2022-08-06T14:20:57.223Z"
   },
   {
    "duration": 4161,
    "start_time": "2022-08-06T14:23:03.003Z"
   },
   {
    "duration": 4150,
    "start_time": "2022-08-06T14:24:22.693Z"
   },
   {
    "duration": 6,
    "start_time": "2022-08-06T14:24:36.136Z"
   },
   {
    "duration": 92,
    "start_time": "2022-08-06T14:26:20.174Z"
   },
   {
    "duration": 68,
    "start_time": "2022-08-06T14:27:10.151Z"
   },
   {
    "duration": 65,
    "start_time": "2022-08-06T14:27:26.461Z"
   },
   {
    "duration": 3986,
    "start_time": "2022-08-06T14:31:22.244Z"
   },
   {
    "duration": 4512,
    "start_time": "2022-08-06T14:32:00.777Z"
   },
   {
    "duration": 4116,
    "start_time": "2022-08-06T14:32:13.285Z"
   },
   {
    "duration": 114,
    "start_time": "2022-08-06T14:33:13.956Z"
   },
   {
    "duration": 4,
    "start_time": "2022-08-06T14:33:18.145Z"
   },
   {
    "duration": 13,
    "start_time": "2022-08-06T14:34:30.794Z"
   },
   {
    "duration": 4062,
    "start_time": "2022-08-06T14:38:29.876Z"
   },
   {
    "duration": 3993,
    "start_time": "2022-08-06T14:38:41.256Z"
   },
   {
    "duration": 3950,
    "start_time": "2022-08-06T14:38:52.441Z"
   },
   {
    "duration": 3863,
    "start_time": "2022-08-06T14:39:08.735Z"
   },
   {
    "duration": 3922,
    "start_time": "2022-08-06T14:39:17.853Z"
   },
   {
    "duration": 3743,
    "start_time": "2022-08-06T14:39:25.565Z"
   },
   {
    "duration": 3841,
    "start_time": "2022-08-06T14:39:34.413Z"
   },
   {
    "duration": 3886,
    "start_time": "2022-08-06T14:39:42.055Z"
   },
   {
    "duration": 3897,
    "start_time": "2022-08-06T14:39:49.645Z"
   },
   {
    "duration": 7587,
    "start_time": "2022-08-06T14:40:36.145Z"
   },
   {
    "duration": 7488,
    "start_time": "2022-08-06T14:40:47.096Z"
   },
   {
    "duration": 7343,
    "start_time": "2022-08-06T14:40:59.145Z"
   },
   {
    "duration": 7409,
    "start_time": "2022-08-06T14:41:10.733Z"
   },
   {
    "duration": 7562,
    "start_time": "2022-08-06T14:41:23.825Z"
   },
   {
    "duration": 4074,
    "start_time": "2022-08-06T14:41:38.505Z"
   },
   {
    "duration": 3996,
    "start_time": "2022-08-06T14:41:50.954Z"
   },
   {
    "duration": 4142,
    "start_time": "2022-08-06T14:43:27.884Z"
   },
   {
    "duration": 6073,
    "start_time": "2022-08-06T14:43:49.415Z"
   },
   {
    "duration": 9,
    "start_time": "2022-08-06T14:45:20.814Z"
   },
   {
    "duration": 5,
    "start_time": "2022-08-06T14:45:21.884Z"
   },
   {
    "duration": 303,
    "start_time": "2022-08-06T14:45:22.954Z"
   },
   {
    "duration": 6,
    "start_time": "2022-08-06T14:45:47.414Z"
   },
   {
    "duration": 374,
    "start_time": "2022-08-06T14:45:48.854Z"
   },
   {
    "duration": 6,
    "start_time": "2022-08-06T14:45:59.684Z"
   },
   {
    "duration": 325,
    "start_time": "2022-08-06T14:46:00.683Z"
   },
   {
    "duration": 5,
    "start_time": "2022-08-06T14:46:26.373Z"
   },
   {
    "duration": 321,
    "start_time": "2022-08-06T14:46:26.624Z"
   },
   {
    "duration": 8,
    "start_time": "2022-08-06T14:46:27.133Z"
   },
   {
    "duration": 5,
    "start_time": "2022-08-06T14:46:45.062Z"
   },
   {
    "duration": 311,
    "start_time": "2022-08-06T14:46:45.724Z"
   },
   {
    "duration": 5,
    "start_time": "2022-08-06T14:46:52.662Z"
   },
   {
    "duration": 325,
    "start_time": "2022-08-06T14:46:53.053Z"
   },
   {
    "duration": 4,
    "start_time": "2022-08-06T14:47:05.994Z"
   },
   {
    "duration": 302,
    "start_time": "2022-08-06T14:47:06.373Z"
   },
   {
    "duration": 6,
    "start_time": "2022-08-06T14:47:51.793Z"
   },
   {
    "duration": 396,
    "start_time": "2022-08-06T14:47:52.011Z"
   },
   {
    "duration": 5,
    "start_time": "2022-08-06T14:48:16.601Z"
   },
   {
    "duration": 304,
    "start_time": "2022-08-06T14:48:17.062Z"
   },
   {
    "duration": 7,
    "start_time": "2022-08-06T14:48:28.632Z"
   },
   {
    "duration": 6389,
    "start_time": "2022-08-06T14:48:39.332Z"
   },
   {
    "duration": 41,
    "start_time": "2022-08-06T14:50:31.082Z"
   },
   {
    "duration": 20,
    "start_time": "2022-08-06T14:50:32.762Z"
   },
   {
    "duration": 8,
    "start_time": "2022-08-06T14:50:54.075Z"
   },
   {
    "duration": 5,
    "start_time": "2022-08-06T14:51:01.962Z"
   },
   {
    "duration": 295,
    "start_time": "2022-08-06T14:51:02.672Z"
   },
   {
    "duration": 7,
    "start_time": "2022-08-06T14:51:03.861Z"
   },
   {
    "duration": 6246,
    "start_time": "2022-08-06T14:51:14.601Z"
   },
   {
    "duration": 6,
    "start_time": "2022-08-06T14:52:30.609Z"
   },
   {
    "duration": 309,
    "start_time": "2022-08-06T14:52:30.681Z"
   },
   {
    "duration": 5,
    "start_time": "2022-08-06T14:53:01.239Z"
   },
   {
    "duration": 307,
    "start_time": "2022-08-06T14:53:01.580Z"
   },
   {
    "duration": 5,
    "start_time": "2022-08-06T14:53:31.522Z"
   },
   {
    "duration": 304,
    "start_time": "2022-08-06T14:53:34.031Z"
   },
   {
    "duration": 8,
    "start_time": "2022-08-06T14:53:46.981Z"
   },
   {
    "duration": 8,
    "start_time": "2022-08-06T14:53:55.492Z"
   },
   {
    "duration": 7,
    "start_time": "2022-08-06T14:53:56.211Z"
   },
   {
    "duration": 316,
    "start_time": "2022-08-06T14:53:56.459Z"
   },
   {
    "duration": 8,
    "start_time": "2022-08-06T14:53:56.778Z"
   },
   {
    "duration": 5835,
    "start_time": "2022-08-06T14:54:04.623Z"
   },
   {
    "duration": 3871,
    "start_time": "2022-08-06T14:54:44.762Z"
   },
   {
    "duration": 3999,
    "start_time": "2022-08-06T14:55:06.511Z"
   },
   {
    "duration": 43,
    "start_time": "2022-08-06T14:56:41.880Z"
   },
   {
    "duration": 37,
    "start_time": "2022-08-06T14:56:43.770Z"
   },
   {
    "duration": 9,
    "start_time": "2022-08-06T14:56:45.431Z"
   },
   {
    "duration": 5,
    "start_time": "2022-08-06T14:56:54.110Z"
   },
   {
    "duration": 301,
    "start_time": "2022-08-06T14:56:54.921Z"
   },
   {
    "duration": 8,
    "start_time": "2022-08-06T14:56:57.691Z"
   },
   {
    "duration": 6047,
    "start_time": "2022-08-06T14:57:06.521Z"
   },
   {
    "duration": 3927,
    "start_time": "2022-08-06T14:57:48.981Z"
   },
   {
    "duration": 41,
    "start_time": "2022-08-06T14:58:21.690Z"
   },
   {
    "duration": 21,
    "start_time": "2022-08-06T14:58:22.449Z"
   },
   {
    "duration": 8,
    "start_time": "2022-08-06T14:58:23.299Z"
   },
   {
    "duration": 4,
    "start_time": "2022-08-06T14:58:24.461Z"
   },
   {
    "duration": 381,
    "start_time": "2022-08-06T14:58:24.730Z"
   },
   {
    "duration": 3976,
    "start_time": "2022-08-06T14:58:41.400Z"
   },
   {
    "duration": 3934,
    "start_time": "2022-08-06T14:58:53.848Z"
   },
   {
    "duration": 42,
    "start_time": "2022-08-06T14:59:35.451Z"
   },
   {
    "duration": 21,
    "start_time": "2022-08-06T14:59:36.868Z"
   },
   {
    "duration": 8,
    "start_time": "2022-08-06T14:59:37.912Z"
   },
   {
    "duration": 5,
    "start_time": "2022-08-06T14:59:39.370Z"
   },
   {
    "duration": 313,
    "start_time": "2022-08-06T14:59:39.770Z"
   },
   {
    "duration": 7,
    "start_time": "2022-08-06T14:59:40.102Z"
   },
   {
    "duration": 4183,
    "start_time": "2022-08-06T15:00:04.410Z"
   },
   {
    "duration": 4239,
    "start_time": "2022-08-06T15:00:08.595Z"
   },
   {
    "duration": 3884,
    "start_time": "2022-08-06T15:00:29.000Z"
   },
   {
    "duration": 3942,
    "start_time": "2022-08-06T15:00:40.320Z"
   },
   {
    "duration": 5678,
    "start_time": "2022-08-06T15:00:53.890Z"
   },
   {
    "duration": 3913,
    "start_time": "2022-08-06T15:01:31.359Z"
   },
   {
    "duration": 3892,
    "start_time": "2022-08-06T15:01:37.410Z"
   },
   {
    "duration": 3857,
    "start_time": "2022-08-06T15:01:49.869Z"
   },
   {
    "duration": 23,
    "start_time": "2022-08-06T15:01:57.730Z"
   },
   {
    "duration": 3758,
    "start_time": "2022-08-06T15:02:23.699Z"
   },
   {
    "duration": 3863,
    "start_time": "2022-08-06T15:02:43.010Z"
   },
   {
    "duration": 5843,
    "start_time": "2022-08-06T15:02:53.909Z"
   },
   {
    "duration": 1062,
    "start_time": "2022-08-06T15:03:37.257Z"
   },
   {
    "duration": 11,
    "start_time": "2022-08-06T15:03:38.321Z"
   },
   {
    "duration": 236,
    "start_time": "2022-08-06T15:03:38.339Z"
   },
   {
    "duration": 86,
    "start_time": "2022-08-06T15:03:38.577Z"
   },
   {
    "duration": 37,
    "start_time": "2022-08-06T15:03:38.665Z"
   },
   {
    "duration": 45,
    "start_time": "2022-08-06T15:03:38.703Z"
   },
   {
    "duration": 28,
    "start_time": "2022-08-06T15:03:38.787Z"
   },
   {
    "duration": 46,
    "start_time": "2022-08-06T15:03:39.057Z"
   },
   {
    "duration": 356,
    "start_time": "2022-08-06T15:03:40.577Z"
   },
   {
    "duration": 12,
    "start_time": "2022-08-06T15:03:42.086Z"
   },
   {
    "duration": 4,
    "start_time": "2022-08-06T15:03:47.078Z"
   },
   {
    "duration": 43,
    "start_time": "2022-08-06T15:03:47.317Z"
   },
   {
    "duration": 20,
    "start_time": "2022-08-06T15:03:49.737Z"
   },
   {
    "duration": 9,
    "start_time": "2022-08-06T15:03:58.515Z"
   },
   {
    "duration": 4,
    "start_time": "2022-08-06T15:04:04.666Z"
   },
   {
    "duration": 300,
    "start_time": "2022-08-06T15:04:05.257Z"
   },
   {
    "duration": 7,
    "start_time": "2022-08-06T15:04:06.275Z"
   },
   {
    "duration": 60,
    "start_time": "2022-08-06T15:05:15.267Z"
   },
   {
    "duration": 4,
    "start_time": "2022-08-06T15:05:15.507Z"
   },
   {
    "duration": 5,
    "start_time": "2022-08-06T15:05:15.766Z"
   },
   {
    "duration": 60814,
    "start_time": "2022-08-06T15:05:16.036Z"
   },
   {
    "duration": 2,
    "start_time": "2022-08-06T15:06:16.852Z"
   },
   {
    "duration": 752,
    "start_time": "2022-08-06T15:06:16.856Z"
   },
   {
    "duration": 974,
    "start_time": "2022-08-06T15:06:17.610Z"
   },
   {
    "duration": 3932,
    "start_time": "2022-08-06T15:06:18.586Z"
   },
   {
    "duration": 5,
    "start_time": "2022-08-06T15:06:49.826Z"
   },
   {
    "duration": 10,
    "start_time": "2022-08-06T15:07:03.286Z"
   },
   {
    "duration": 6,
    "start_time": "2022-08-06T15:07:19.693Z"
   },
   {
    "duration": 3921,
    "start_time": "2022-08-06T15:07:52.047Z"
   },
   {
    "duration": 155,
    "start_time": "2022-08-06T15:11:05.819Z"
   },
   {
    "duration": 52,
    "start_time": "2022-08-06T15:13:04.777Z"
   },
   {
    "duration": 54,
    "start_time": "2022-08-06T15:20:24.666Z"
   },
   {
    "duration": 53,
    "start_time": "2022-08-06T15:20:50.576Z"
   },
   {
    "duration": 3664,
    "start_time": "2022-08-06T15:21:49.325Z"
   },
   {
    "duration": 65954,
    "start_time": "2022-08-06T15:22:04.212Z"
   },
   {
    "duration": 543814,
    "start_time": "2022-08-06T15:23:40.256Z"
   },
   {
    "duration": 5935,
    "start_time": "2022-08-06T15:46:19.754Z"
   },
   {
    "duration": 9215,
    "start_time": "2022-08-06T15:46:39.979Z"
   },
   {
    "duration": 487334,
    "start_time": "2022-08-06T15:52:30.774Z"
   },
   {
    "duration": 6059,
    "start_time": "2022-08-06T16:07:12.856Z"
   },
   {
    "duration": 67,
    "start_time": "2022-08-07T05:49:30.113Z"
   },
   {
    "duration": 1239,
    "start_time": "2022-08-07T05:49:37.755Z"
   },
   {
    "duration": 14,
    "start_time": "2022-08-07T05:49:38.996Z"
   },
   {
    "duration": 220,
    "start_time": "2022-08-07T05:49:39.011Z"
   },
   {
    "duration": 168,
    "start_time": "2022-08-07T05:49:39.233Z"
   },
   {
    "duration": 111,
    "start_time": "2022-08-07T05:49:39.402Z"
   },
   {
    "duration": 68,
    "start_time": "2022-08-07T05:49:39.515Z"
   },
   {
    "duration": 68,
    "start_time": "2022-08-07T05:49:39.585Z"
   },
   {
    "duration": 36,
    "start_time": "2022-08-07T05:49:39.654Z"
   },
   {
    "duration": 310,
    "start_time": "2022-08-07T05:49:39.693Z"
   },
   {
    "duration": 13,
    "start_time": "2022-08-07T05:49:40.005Z"
   },
   {
    "duration": 5,
    "start_time": "2022-08-07T05:49:40.068Z"
   },
   {
    "duration": 45,
    "start_time": "2022-08-07T05:49:40.264Z"
   },
   {
    "duration": 20,
    "start_time": "2022-08-07T05:49:41.275Z"
   },
   {
    "duration": 8,
    "start_time": "2022-08-07T05:49:43.545Z"
   },
   {
    "duration": 5,
    "start_time": "2022-08-07T05:49:45.574Z"
   },
   {
    "duration": 274,
    "start_time": "2022-08-07T05:49:46.416Z"
   },
   {
    "duration": 7,
    "start_time": "2022-08-07T05:49:47.035Z"
   },
   {
    "duration": 57,
    "start_time": "2022-08-07T05:49:52.185Z"
   },
   {
    "duration": 65,
    "start_time": "2022-08-07T05:50:12.664Z"
   },
   {
    "duration": 145,
    "start_time": "2022-08-07T05:53:36.185Z"
   },
   {
    "duration": 5,
    "start_time": "2022-08-07T05:53:49.346Z"
   },
   {
    "duration": 5,
    "start_time": "2022-08-07T05:53:49.735Z"
   },
   {
    "duration": 5645,
    "start_time": "2022-08-07T05:53:56.444Z"
   },
   {
    "duration": 5570,
    "start_time": "2022-08-07T06:01:48.534Z"
   },
   {
    "duration": 5465,
    "start_time": "2022-08-07T06:01:57.425Z"
   },
   {
    "duration": 5768,
    "start_time": "2022-08-07T06:02:07.574Z"
   },
   {
    "duration": 1463,
    "start_time": "2022-08-09T05:57:20.458Z"
   },
   {
    "duration": 21,
    "start_time": "2022-08-09T05:57:21.923Z"
   },
   {
    "duration": 373,
    "start_time": "2022-08-09T05:57:21.946Z"
   },
   {
    "duration": 192,
    "start_time": "2022-08-09T05:57:22.321Z"
   },
   {
    "duration": 71,
    "start_time": "2022-08-09T05:57:22.515Z"
   },
   {
    "duration": 132,
    "start_time": "2022-08-09T05:57:22.587Z"
   },
   {
    "duration": 57,
    "start_time": "2022-08-09T05:57:22.721Z"
   },
   {
    "duration": 42,
    "start_time": "2022-08-09T05:57:22.779Z"
   },
   {
    "duration": 412,
    "start_time": "2022-08-09T05:57:22.825Z"
   },
   {
    "duration": 12,
    "start_time": "2022-08-09T05:57:23.239Z"
   },
   {
    "duration": 6,
    "start_time": "2022-08-09T05:57:34.486Z"
   },
   {
    "duration": 51,
    "start_time": "2022-08-09T05:57:34.786Z"
   },
   {
    "duration": 23,
    "start_time": "2022-08-09T05:57:37.137Z"
   },
   {
    "duration": 13,
    "start_time": "2022-08-09T05:57:47.158Z"
   },
   {
    "duration": 78,
    "start_time": "2022-08-09T05:57:57.106Z"
   },
   {
    "duration": 133,
    "start_time": "2022-08-09T05:57:58.826Z"
   },
   {
    "duration": 63586,
    "start_time": "2022-08-09T05:58:34.016Z"
   },
   {
    "duration": 68,
    "start_time": "2022-08-09T05:59:42.616Z"
   },
   {
    "duration": 63168,
    "start_time": "2022-08-09T05:59:59.776Z"
   },
   {
    "duration": 61529,
    "start_time": "2022-08-09T06:02:59.206Z"
   },
   {
    "duration": 62970,
    "start_time": "2022-08-09T06:05:14.468Z"
   },
   {
    "duration": 27825,
    "start_time": "2022-08-09T06:07:53.273Z"
   },
   {
    "duration": 62852,
    "start_time": "2022-08-09T06:08:56.185Z"
   },
   {
    "duration": 5,
    "start_time": "2022-08-09T06:13:44.257Z"
   },
   {
    "duration": 46538,
    "start_time": "2022-08-09T06:13:52.455Z"
   },
   {
    "duration": 4494,
    "start_time": "2022-08-09T06:14:44.287Z"
   },
   {
    "duration": 63021,
    "start_time": "2022-08-09T06:14:51.226Z"
   },
   {
    "duration": 6,
    "start_time": "2022-08-09T06:15:54.249Z"
   },
   {
    "duration": 8,
    "start_time": "2022-08-09T06:16:00.145Z"
   },
   {
    "duration": 5,
    "start_time": "2022-08-09T06:16:00.857Z"
   },
   {
    "duration": 298462,
    "start_time": "2022-08-09T06:16:02.097Z"
   },
   {
    "duration": 7,
    "start_time": "2022-08-09T06:21:21.567Z"
   },
   {
    "duration": 44397,
    "start_time": "2022-08-09T06:21:35.272Z"
   },
   {
    "duration": 349861,
    "start_time": "2022-08-09T06:23:10.908Z"
   },
   {
    "duration": 6781,
    "start_time": "2022-08-09T06:58:49.798Z"
   },
   {
    "duration": 6,
    "start_time": "2022-08-09T07:01:25.409Z"
   },
   {
    "duration": 6694,
    "start_time": "2022-08-09T07:01:27.700Z"
   },
   {
    "duration": 4812,
    "start_time": "2022-08-09T07:01:57.977Z"
   },
   {
    "duration": 13,
    "start_time": "2022-08-09T07:02:52.330Z"
   },
   {
    "duration": 5,
    "start_time": "2022-08-09T07:02:55.089Z"
   },
   {
    "duration": 9,
    "start_time": "2022-08-09T07:03:06.688Z"
   },
   {
    "duration": 184,
    "start_time": "2022-08-09T07:03:43.415Z"
   },
   {
    "duration": 243,
    "start_time": "2022-08-09T07:06:27.863Z"
   },
   {
    "duration": 241,
    "start_time": "2022-08-09T07:07:00.169Z"
   },
   {
    "duration": 188,
    "start_time": "2022-08-09T07:07:13.114Z"
   },
   {
    "duration": 1030,
    "start_time": "2022-08-09T07:07:27.375Z"
   },
   {
    "duration": 4282,
    "start_time": "2022-08-09T07:07:42.214Z"
   },
   {
    "duration": 529670,
    "start_time": "2022-08-09T07:09:48.574Z"
   },
   {
    "duration": 76,
    "start_time": "2022-08-09T07:18:38.246Z"
   },
   {
    "duration": 5735,
    "start_time": "2022-08-09T07:25:26.754Z"
   },
   {
    "duration": 5678,
    "start_time": "2022-08-09T07:25:47.614Z"
   },
   {
    "duration": 5989,
    "start_time": "2022-08-09T07:26:22.628Z"
   },
   {
    "duration": 1000,
    "start_time": "2022-08-09T07:27:10.584Z"
   },
   {
    "duration": 14,
    "start_time": "2022-08-09T07:27:11.586Z"
   },
   {
    "duration": 274,
    "start_time": "2022-08-09T07:27:11.601Z"
   },
   {
    "duration": 88,
    "start_time": "2022-08-09T07:27:11.877Z"
   },
   {
    "duration": 40,
    "start_time": "2022-08-09T07:27:11.967Z"
   },
   {
    "duration": 48,
    "start_time": "2022-08-09T07:27:12.264Z"
   },
   {
    "duration": 31,
    "start_time": "2022-08-09T07:27:12.494Z"
   },
   {
    "duration": 41,
    "start_time": "2022-08-09T07:27:12.912Z"
   },
   {
    "duration": 374,
    "start_time": "2022-08-09T07:27:13.843Z"
   },
   {
    "duration": 12,
    "start_time": "2022-08-09T07:27:14.219Z"
   },
   {
    "duration": 5,
    "start_time": "2022-08-09T07:27:16.394Z"
   },
   {
    "duration": 54,
    "start_time": "2022-08-09T07:27:16.715Z"
   },
   {
    "duration": 24,
    "start_time": "2022-08-09T07:27:19.074Z"
   },
   {
    "duration": 5,
    "start_time": "2022-08-09T07:27:43.911Z"
   },
   {
    "duration": 49,
    "start_time": "2022-08-09T07:27:44.184Z"
   },
   {
    "duration": 24,
    "start_time": "2022-08-09T07:27:48.934Z"
   },
   {
    "duration": 13,
    "start_time": "2022-08-09T07:27:53.510Z"
   },
   {
    "duration": 97,
    "start_time": "2022-08-09T07:27:58.615Z"
   },
   {
    "duration": 203,
    "start_time": "2022-08-09T07:28:01.110Z"
   },
   {
    "duration": 2432,
    "start_time": "2022-08-09T07:28:26.466Z"
   },
   {
    "duration": 3,
    "start_time": "2022-08-09T07:29:09.023Z"
   },
   {
    "duration": 2289,
    "start_time": "2022-08-09T07:29:09.553Z"
   },
   {
    "duration": 15574,
    "start_time": "2022-08-09T07:29:47.823Z"
   },
   {
    "duration": 50,
    "start_time": "2022-08-09T07:30:07.453Z"
   },
   {
    "duration": 11,
    "start_time": "2022-08-09T07:30:37.323Z"
   },
   {
    "duration": 363,
    "start_time": "2022-08-09T07:33:17.575Z"
   },
   {
    "duration": 366,
    "start_time": "2022-08-09T07:39:40.554Z"
   },
   {
    "duration": 51,
    "start_time": "2022-08-09T07:39:51.154Z"
   },
   {
    "duration": 51,
    "start_time": "2022-08-09T07:42:37.212Z"
   },
   {
    "duration": 50,
    "start_time": "2022-08-09T07:42:39.182Z"
   },
   {
    "duration": 62,
    "start_time": "2022-08-09T07:42:44.542Z"
   },
   {
    "duration": 64,
    "start_time": "2022-08-09T07:43:47.223Z"
   },
   {
    "duration": 356,
    "start_time": "2022-08-09T07:43:54.121Z"
   },
   {
    "duration": 375,
    "start_time": "2022-08-09T07:44:09.620Z"
   },
   {
    "duration": 449,
    "start_time": "2022-08-09T07:44:27.332Z"
   },
   {
    "duration": 972,
    "start_time": "2022-08-09T07:45:12.918Z"
   },
   {
    "duration": 13,
    "start_time": "2022-08-09T07:45:13.892Z"
   },
   {
    "duration": 301,
    "start_time": "2022-08-09T07:45:13.907Z"
   },
   {
    "duration": 88,
    "start_time": "2022-08-09T07:45:14.210Z"
   },
   {
    "duration": 42,
    "start_time": "2022-08-09T07:45:14.300Z"
   },
   {
    "duration": 48,
    "start_time": "2022-08-09T07:45:14.344Z"
   },
   {
    "duration": 29,
    "start_time": "2022-08-09T07:45:14.395Z"
   },
   {
    "duration": 42,
    "start_time": "2022-08-09T07:45:14.458Z"
   },
   {
    "duration": 387,
    "start_time": "2022-08-09T07:45:15.106Z"
   },
   {
    "duration": 14,
    "start_time": "2022-08-09T07:45:15.496Z"
   },
   {
    "duration": 5,
    "start_time": "2022-08-09T07:45:15.978Z"
   },
   {
    "duration": 48,
    "start_time": "2022-08-09T07:45:16.258Z"
   },
   {
    "duration": 22,
    "start_time": "2022-08-09T07:45:19.148Z"
   },
   {
    "duration": 12,
    "start_time": "2022-08-09T07:45:20.769Z"
   },
   {
    "duration": 89,
    "start_time": "2022-08-09T07:45:34.262Z"
   },
   {
    "duration": 16014,
    "start_time": "2022-08-09T07:45:35.207Z"
   },
   {
    "duration": 49,
    "start_time": "2022-08-09T07:45:57.448Z"
   },
   {
    "duration": 23,
    "start_time": "2022-08-09T07:48:32.605Z"
   },
   {
    "duration": 5,
    "start_time": "2022-08-09T07:48:32.823Z"
   },
   {
    "duration": 5,
    "start_time": "2022-08-09T07:48:33.312Z"
   },
   {
    "duration": 6357,
    "start_time": "2022-08-09T07:48:48.678Z"
   },
   {
    "duration": 1582,
    "start_time": "2022-08-09T07:50:14.125Z"
   },
   {
    "duration": 297115,
    "start_time": "2022-08-09T07:51:05.579Z"
   },
   {
    "duration": 831,
    "start_time": "2022-08-11T12:18:26.632Z"
   },
   {
    "duration": 776,
    "start_time": "2022-08-11T12:18:37.394Z"
   },
   {
    "duration": 11,
    "start_time": "2022-08-11T12:18:39.313Z"
   },
   {
    "duration": 234,
    "start_time": "2022-08-11T12:18:40.673Z"
   },
   {
    "duration": 82,
    "start_time": "2022-08-11T12:18:41.353Z"
   },
   {
    "duration": 38,
    "start_time": "2022-08-11T12:18:42.363Z"
   },
   {
    "duration": 91,
    "start_time": "2022-08-11T12:18:42.915Z"
   },
   {
    "duration": 29,
    "start_time": "2022-08-11T12:18:43.823Z"
   },
   {
    "duration": 38,
    "start_time": "2022-08-11T12:18:44.633Z"
   },
   {
    "duration": 2,
    "start_time": "2022-08-11T12:21:43.224Z"
   },
   {
    "duration": 10,
    "start_time": "2022-08-11T12:21:43.783Z"
   },
   {
    "duration": 3,
    "start_time": "2022-08-11T12:21:44.223Z"
   },
   {
    "duration": 85,
    "start_time": "2022-08-11T12:21:44.704Z"
   },
   {
    "duration": 39,
    "start_time": "2022-08-11T12:21:45.114Z"
   },
   {
    "duration": 46,
    "start_time": "2022-08-11T12:21:45.435Z"
   },
   {
    "duration": 40,
    "start_time": "2022-08-11T12:21:45.683Z"
   },
   {
    "duration": 45,
    "start_time": "2022-08-11T12:21:45.904Z"
   },
   {
    "duration": 302,
    "start_time": "2022-08-11T12:21:47.043Z"
   },
   {
    "duration": 11,
    "start_time": "2022-08-11T12:21:47.484Z"
   },
   {
    "duration": 4,
    "start_time": "2022-08-11T12:21:52.863Z"
   },
   {
    "duration": 43,
    "start_time": "2022-08-11T12:21:53.224Z"
   },
   {
    "duration": 27,
    "start_time": "2022-08-11T12:22:41.684Z"
   },
   {
    "duration": 974,
    "start_time": "2022-08-11T12:23:40.073Z"
   },
   {
    "duration": 13,
    "start_time": "2022-08-11T12:23:46.116Z"
   },
   {
    "duration": 3,
    "start_time": "2022-08-11T12:25:43.553Z"
   },
   {
    "duration": 8,
    "start_time": "2022-08-11T12:29:29.945Z"
   },
   {
    "duration": 3,
    "start_time": "2022-08-11T12:29:35.344Z"
   },
   {
    "duration": 6,
    "start_time": "2022-08-11T12:29:36.634Z"
   },
   {
    "duration": 11,
    "start_time": "2022-08-11T12:29:37.744Z"
   },
   {
    "duration": 14,
    "start_time": "2022-08-11T12:30:29.933Z"
   },
   {
    "duration": 10,
    "start_time": "2022-08-11T12:30:37.874Z"
   },
   {
    "duration": 11,
    "start_time": "2022-08-11T12:30:45.244Z"
   },
   {
    "duration": 14,
    "start_time": "2022-08-11T12:31:04.815Z"
   },
   {
    "duration": 12,
    "start_time": "2022-08-11T12:31:06.075Z"
   },
   {
    "duration": 9,
    "start_time": "2022-08-11T12:31:21.234Z"
   },
   {
    "duration": 12,
    "start_time": "2022-08-11T12:32:09.273Z"
   },
   {
    "duration": 13,
    "start_time": "2022-08-11T12:32:18.523Z"
   },
   {
    "duration": 10,
    "start_time": "2022-08-11T12:32:21.833Z"
   },
   {
    "duration": 14,
    "start_time": "2022-08-11T12:32:37.223Z"
   },
   {
    "duration": 9,
    "start_time": "2022-08-11T12:32:42.115Z"
   },
   {
    "duration": 10,
    "start_time": "2022-08-11T12:32:50.592Z"
   },
   {
    "duration": 15,
    "start_time": "2022-08-11T12:35:23.062Z"
   },
   {
    "duration": 3,
    "start_time": "2022-08-11T12:36:03.261Z"
   },
   {
    "duration": 7,
    "start_time": "2022-08-11T12:36:07.682Z"
   },
   {
    "duration": 15,
    "start_time": "2022-08-11T12:36:10.191Z"
   },
   {
    "duration": 11,
    "start_time": "2022-08-11T12:36:11.913Z"
   },
   {
    "duration": 13,
    "start_time": "2022-08-11T12:36:17.501Z"
   },
   {
    "duration": 12,
    "start_time": "2022-08-11T12:36:22.191Z"
   },
   {
    "duration": 6,
    "start_time": "2022-08-11T12:36:33.302Z"
   },
   {
    "duration": 71,
    "start_time": "2022-08-11T12:36:42.551Z"
   },
   {
    "duration": 24455,
    "start_time": "2022-08-11T12:36:43.991Z"
   },
   {
    "duration": 102,
    "start_time": "2022-08-11T12:39:09.820Z"
   },
   {
    "duration": 20,
    "start_time": "2022-08-11T12:39:19.400Z"
   },
   {
    "duration": 5,
    "start_time": "2022-08-11T12:39:20.270Z"
   },
   {
    "duration": 4,
    "start_time": "2022-08-11T12:39:22.120Z"
   },
   {
    "duration": 270723,
    "start_time": "2022-08-11T12:39:23.146Z"
   },
   {
    "duration": 5618,
    "start_time": "2022-08-11T12:49:23.656Z"
   },
   {
    "duration": 1177,
    "start_time": "2022-08-13T07:48:03.491Z"
   },
   {
    "duration": 12,
    "start_time": "2022-08-13T07:48:04.670Z"
   },
   {
    "duration": 243,
    "start_time": "2022-08-13T07:48:04.684Z"
   },
   {
    "duration": 150,
    "start_time": "2022-08-13T07:48:04.929Z"
   },
   {
    "duration": 115,
    "start_time": "2022-08-13T07:48:05.080Z"
   },
   {
    "duration": 77,
    "start_time": "2022-08-13T07:48:05.196Z"
   },
   {
    "duration": 63,
    "start_time": "2022-08-13T07:48:05.275Z"
   },
   {
    "duration": 34,
    "start_time": "2022-08-13T07:48:05.531Z"
   },
   {
    "duration": 20789,
    "start_time": "2022-08-13T07:48:28.091Z"
   },
   {
    "duration": 9,
    "start_time": "2022-08-13T07:48:57.201Z"
   },
   {
    "duration": 8,
    "start_time": "2022-08-13T07:49:02.081Z"
   },
   {
    "duration": 7,
    "start_time": "2022-08-13T07:49:17.551Z"
   },
   {
    "duration": 8,
    "start_time": "2022-08-13T07:50:06.241Z"
   },
   {
    "duration": 487,
    "start_time": "2022-08-13T10:28:30.501Z"
   }
  ],
  "kernelspec": {
   "display_name": "Python 3 (ipykernel)",
   "language": "python",
   "name": "python3"
  },
  "language_info": {
   "codemirror_mode": {
    "name": "ipython",
    "version": 3
   },
   "file_extension": ".py",
   "mimetype": "text/x-python",
   "name": "python",
   "nbconvert_exporter": "python",
   "pygments_lexer": "ipython3",
   "version": "3.8.13"
  },
  "toc": {
   "base_numbering": 1,
   "nav_menu": {},
   "number_sections": true,
   "sideBar": true,
   "skip_h1_title": true,
   "title_cell": "Table of Contents",
   "title_sidebar": "Contents",
   "toc_cell": false,
   "toc_position": {},
   "toc_section_display": true,
   "toc_window_display": false
  },
  "varInspector": {
   "cols": {
    "lenName": 16,
    "lenType": 16,
    "lenVar": 40
   },
   "kernels_config": {
    "python": {
     "delete_cmd_postfix": "",
     "delete_cmd_prefix": "del ",
     "library": "var_list.py",
     "varRefreshCmd": "print(var_dic_list())"
    },
    "r": {
     "delete_cmd_postfix": ") ",
     "delete_cmd_prefix": "rm(",
     "library": "var_list.r",
     "varRefreshCmd": "cat(var_dic_list()) "
    }
   },
   "types_to_exclude": [
    "module",
    "function",
    "builtin_function_or_method",
    "instance",
    "_Feature"
   ],
   "window_display": false
  }
 },
 "nbformat": 4,
 "nbformat_minor": 5
}
